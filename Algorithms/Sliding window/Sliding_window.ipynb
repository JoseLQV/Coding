{
 "cells": [
  {
   "cell_type": "markdown",
   "id": "c875eeb7",
   "metadata": {},
   "source": [
    "# Sliding Window\n",
    "\n",
    "\n",
    "Sliding windows can be Two Pointer problems \n",
    "\n",
    "But Two Pointer can Not be Sliding Window problems"
   ]
  },
  {
   "cell_type": "code",
   "execution_count": null,
   "id": "90876d8d",
   "metadata": {},
   "outputs": [],
   "source": [
    "def sliding_window(arr, target):\n",
    "    left = 0\n",
    "    result = None  # e.g., float('inf'), 0, []\n",
    "\n",
    "    window_state = None  # sum, counts, set, etc.\n",
    "\n",
    "    for right in range(len(arr)):\n",
    "        # ➕ Expand right: include arr[right]\n",
    "        pass\n",
    "\n",
    "        # 🔍 Shrink left while condition met\n",
    "        while False:  # replace with your condition\n",
    "            # ✨ Update result here (best window so far)\n",
    "            pass\n",
    "\n",
    "            # ➖ Remove arr[left] and move left pointer\n",
    "            left += 1\n",
    "\n",
    "    # 🎉 Return final result\n",
    "    return result\n"
   ]
  }
 ],
 "metadata": {
  "kernelspec": {
   "display_name": "Python 3",
   "language": "python",
   "name": "python3"
  },
  "language_info": {
   "codemirror_mode": {
    "name": "ipython",
    "version": 3
   },
   "file_extension": ".py",
   "mimetype": "text/x-python",
   "name": "python",
   "nbconvert_exporter": "python",
   "pygments_lexer": "ipython3",
   "version": "3.11.7"
  }
 },
 "nbformat": 4,
 "nbformat_minor": 5
}

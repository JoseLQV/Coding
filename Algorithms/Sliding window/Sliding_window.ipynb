{
 "cells": [
  {
   "cell_type": "markdown",
   "id": "c875eeb7",
   "metadata": {},
   "source": [
    "# Sliding Window\n",
    "\n",
    "\n",
    "Sliding windows can be Two Pointer problems \n",
    "\n",
    "But Two Pointer can Not be Sliding Window problems"
   ]
  },
  {
   "cell_type": "code",
   "execution_count": 2,
   "id": "90876d8d",
   "metadata": {},
   "outputs": [],
   "source": [
    "def sliding_window(arr, target):\n",
    "    left = 0\n",
    "    result = None  # e.g., float('inf'), 0, []\n",
    "\n",
    "    window_state = None  # sum, counts, set, etc.\n",
    "\n",
    "    for right in range(len(arr)):\n",
    "        # ➕ Expand right: include arr[right]\n",
    "        pass\n",
    "\n",
    "        # 🔍 Shrink left while condition met\n",
    "        while False:  # replace with your condition\n",
    "            # ✨ Update result here (best window so far)\n",
    "            pass\n",
    "\n",
    "            # ➖ Remove arr[left] and move left pointer\n",
    "            left += 1\n",
    "\n",
    "    # 🎉 Return final result\n",
    "    return result\n"
   ]
  },
  {
   "cell_type": "markdown",
   "id": "57bcfad1",
   "metadata": {},
   "source": [
    "# Easy \n"
   ]
  },
  {
   "cell_type": "markdown",
   "id": "f7cda393",
   "metadata": {},
   "source": [
    "| Problem                                                                                                                                                            | Key Concepts               |\n",
    "| ------------------------------------------------------------------------------------------------------------------------------------------------------------------ | -------------------------- |\n",
    "| [Maximum Average Subarray I (LC 643)](https://leetcode.com/problems/maximum-average-subarray-i/)                                                                   | Fixed-size window          |\n",
    "| [Minimum Size Subarray Sum (LC 209)](https://leetcode.com/problems/minimum-size-subarray-sum/)                                                                     | Shrinking window           |\n",
    "| [Longest Substring Without Repeating Characters (LC 3)](https://leetcode.com/problems/longest-substring-without-repeating-characters/)                             | HashSet + dynamic window   |\n",
    "| [Longest Repeating Character Replacement (LC 424)](https://leetcode.com/problems/longest-repeating-character-replacement/)                                         | Sliding + frequency count  |\n",
    "| [Permutation in String (LC 567)](https://leetcode.com/problems/permutation-in-string/)                                                                             | Sliding + count map        |\n",
    "| [Sliding Window Maximum (LC 239)](https://leetcode.com/problems/sliding-window-maximum/)                                                                           | Monotonic deque            |\n",
    "| [Longest Subarray with Absolute Diff ≤ Limit (LC 1438)](https://leetcode.com/problems/longest-continuous-subarray-with-absolute-diff-less-than-or-equal-to-limit/) | TreeMap / Deque for bounds |\n"
   ]
  },
  {
   "cell_type": "markdown",
   "id": "b80aaec7",
   "metadata": {},
   "source": [
    "# Medium"
   ]
  },
  {
   "cell_type": "markdown",
   "id": "5fd04f66",
   "metadata": {},
   "source": [
    "| Problem                                                                                                                                       | Key Concepts                          |\n",
    "| --------------------------------------------------------------------------------------------------------------------------------------------- | ------------------------------------- |\n",
    "| [Subarrays with K Different Integers (LC 992)](https://leetcode.com/problems/subarrays-with-k-different-integers/)                            | At most K trick + dual sliding window |\n",
    "| [Max Consecutive Ones III (LC 1004)](https://leetcode.com/problems/max-consecutive-ones-iii/)                                                 | Flip count strategy                   |\n",
    "| [Fruit Into Baskets (LC 904)](https://leetcode.com/problems/fruit-into-baskets/)                                                              | Longest subarray with 2 types         |\n",
    "| [Find All Anagrams in a String (LC 438)](https://leetcode.com/problems/find-all-anagrams-in-a-string/)                                        | Sliding + char count map              |\n",
    "| [Longest Substring with At Most Two Distinct (LC 159)](https://leetcode.com/problems/longest-substring-with-at-most-two-distinct-characters/) | Shrinking window with dict            |\n",
    "| [Count Number of Nice Subarrays (LC 1248)](https://leetcode.com/problems/count-number-of-nice-subarrays/)                                     | At most K odd trick                   |\n",
    "| [Minimum Window Substring (LC 76)](https://leetcode.com/problems/minimum-window-substring/)                                                   | Classic: shrinking + match count      |\n"
   ]
  },
  {
   "cell_type": "markdown",
   "id": "8f120088",
   "metadata": {},
   "source": [
    "# Hard"
   ]
  },
  {
   "cell_type": "markdown",
   "id": "9b5c4d54",
   "metadata": {},
   "source": [
    "| Problem                                                                                                                                               | Key Concepts                                  |\n",
    "| ----------------------------------------------------------------------------------------------------------------------------------------------------- | --------------------------------------------- |\n",
    "| [Sliding Window Median (LC 480)](https://leetcode.com/problems/sliding-window-median/)                                                                | Two Heaps (max/min)                           |\n",
    "| [Count of Smaller Numbers After Self (LC 315)](https://leetcode.com/problems/count-of-smaller-numbers-after-self/)                                    | Modified merge sort (not traditional SW)      |\n",
    "| [Max Sliding Window II (Custom)](https://leetcode.com/problems/sliding-window-maximum/)                                                               | Sliding max with Monotonic Queue              |\n",
    "| [Number of Substrings Containing All Three Characters (LC 1358)](https://leetcode.com/problems/number-of-substrings-containing-all-three-characters/) | Inclusion-Exclusion logic + window            |\n",
    "| [Smallest Range Covering Elements from K Lists (LC 632)](https://leetcode.com/problems/smallest-range-covering-elements-from-k-lists/)                | Heap + sliding window across lists            |\n",
    "| [Substring with Concatenation of All Words (LC 30)](https://leetcode.com/problems/substring-with-concatenation-of-all-words/)                         | Window with fixed chunk sizes + dict matching |\n",
    "| [Binary Subarrays With Sum (LC 930)](https://leetcode.com/problems/binary-subarrays-with-sum/)                                                        | Sliding + prefix sums                         |\n"
   ]
  },
  {
   "cell_type": "markdown",
   "id": "a8b6d48b",
   "metadata": {},
   "source": [
    "# Template :"
   ]
  },
  {
   "cell_type": "code",
   "execution_count": 3,
   "id": "a45e5a0b",
   "metadata": {},
   "outputs": [],
   "source": [
    "def sliding_window_general(data, is_valid):\n",
    "    from collections import defaultdict\n",
    "\n",
    "    count = defaultdict(int)\n",
    "    left = 0\n",
    "    result = 0  # Can also be a list, sum, min, etc.\n",
    "\n",
    "    for right in range(len(data)):\n",
    "        # Expand window\n",
    "        count[data[right]] += 1\n",
    "\n",
    "        # Shrink window until valid\n",
    "        while not is_valid(count, left, right):\n",
    "            count[data[left]] -= 1\n",
    "            if count[data[left]] == 0:\n",
    "                del count[data[left]]\n",
    "            left += 1\n",
    "\n",
    "        # Update result\n",
    "        result = max(result, right - left + 1)  # Adjust per problem\n",
    "\n",
    "    return result\n"
   ]
  },
  {
   "cell_type": "markdown",
   "id": "74798789",
   "metadata": {},
   "source": [
    "### Lesson Learned:"
   ]
  },
  {
   "cell_type": "markdown",
   "id": "ee966424",
   "metadata": {},
   "source": [
    "Traditional Sliding Window means:\n",
    "- Traverse for first window\n",
    "- Traverse for sliding the window\n"
   ]
  },
  {
   "cell_type": "markdown",
   "id": "f593dd58",
   "metadata": {},
   "source": [
    "Shrinking Sliding Window:\n",
    "- don't forget float(\"inf\") in minimal length\n",
    "- Traverse Right\n",
    "- Nested Traversal for Left and check "
   ]
  },
  {
   "cell_type": "markdown",
   "id": "e3fd1e3f",
   "metadata": {},
   "source": []
  }
 ],
 "metadata": {
  "kernelspec": {
   "display_name": "Python 3",
   "language": "python",
   "name": "python3"
  },
  "language_info": {
   "codemirror_mode": {
    "name": "ipython",
    "version": 3
   },
   "file_extension": ".py",
   "mimetype": "text/x-python",
   "name": "python",
   "nbconvert_exporter": "python",
   "pygments_lexer": "ipython3",
   "version": "3.11.7"
  }
 },
 "nbformat": 4,
 "nbformat_minor": 5
}

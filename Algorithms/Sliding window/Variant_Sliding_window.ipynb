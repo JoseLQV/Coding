{
 "cells": [
  {
   "cell_type": "markdown",
   "id": "47d89d3a",
   "metadata": {},
   "source": [
    "# Sliding Window Variants:\n",
    "\n"
   ]
  },
  {
   "cell_type": "markdown",
   "id": "3c423c39",
   "metadata": {},
   "source": [
    "### Fixed Size Sliding Window"
   ]
  },
  {
   "cell_type": "markdown",
   "id": "196a247d",
   "metadata": {},
   "source": [
    "| Difficulty | Problem                       | Link                                                                   |\n",
    "| ---------- | ----------------------------- | ---------------------------------------------------------------------- |\n",
    "| 🟢 Easy    | Maximum Average Subarray I    | [LC 643](https://leetcode.com/problems/maximum-average-subarray-i/)    |\n",
    "| 🟡 Medium  | Permutation in String         | [LC 567](https://leetcode.com/problems/permutation-in-string/)         |\n",
    "| 🟡 Medium  | Find All Anagrams in a String | [LC 438](https://leetcode.com/problems/find-all-anagrams-in-a-string/) |\n",
    "| 🔴 Hard    | Sliding Window Median         | [LC 480](https://leetcode.com/problems/sliding-window-median/)         |\n"
   ]
  },
  {
   "cell_type": "code",
   "execution_count": 1,
   "id": "5bd71150",
   "metadata": {},
   "outputs": [],
   "source": [
    "from collections import defaultdict\n",
    "from typing import Any\n",
    "\n",
    "def fixed_size_sliding_window(s: str, k: int, target: str) -> Any:\n",
    "    # Step 1: Build frequency map of target (optional depending on problem)\n",
    "    target_map = defaultdict(int)\n",
    "    for c in target:\n",
    "        target_map[c] += 1\n",
    "\n",
    "    # Step 2: Initialize window map and pointers\n",
    "    window_map = defaultdict(int)\n",
    "    left = 0\n",
    "    result = []\n",
    "\n",
    "    # Step 3: Expand window\n",
    "    for right in range(len(s)):\n",
    "        window_map[s[right]] += 1\n",
    "\n",
    "        # Step 4: Shrink window if it exceeds size k\n",
    "        if right - left + 1 > k:\n",
    "            window_map[s[left]] -= 1\n",
    "            if window_map[s[left]] == 0:\n",
    "                del window_map[s[left]]\n",
    "            left += 1\n",
    "\n",
    "        # Step 5: Do your check when window size == k\n",
    "        if right - left + 1 == k:\n",
    "            if window_map == target_map:\n",
    "                result.append(left)  # or return True, or update answer\n",
    "\n",
    "    return result\n"
   ]
  },
  {
   "cell_type": "markdown",
   "id": "912afb6d",
   "metadata": {},
   "source": [
    "### Variable Size, Shrink Until Valid"
   ]
  },
  {
   "cell_type": "markdown",
   "id": "fc0ba4d3",
   "metadata": {},
   "source": [
    "| Difficulty | Problem                                                | Link                                                                                            |\n",
    "| ---------- | ------------------------------------------------------ | ----------------------------------------------------------------------------------------------- |\n",
    "| 🟢 Easy    | Longest Substring Without Repeating Characters         | [LC 3](https://leetcode.com/problems/longest-substring-without-repeating-characters/)           |\n",
    "| 🟡 Medium  | Minimum Size Subarray Sum                              | [LC 209](https://leetcode.com/problems/minimum-size-subarray-sum/)                              |\n",
    "| 🟡 Medium  | Longest Substring with At Most Two Distinct Characters | [LC 159](https://leetcode.com/problems/longest-substring-with-at-most-two-distinct-characters/) |\n",
    "| 🔴 Hard    | Minimum Window Substring                               | [LC 76](https://leetcode.com/problems/minimum-window-substring/)                                |\n",
    "| 🔴 Hard    | Longest Substring with At Most K Distinct Characters   | [LC 340](https://leetcode.com/problems/longest-substring-with-at-most-k-distinct-characters/)   |\n"
   ]
  },
  {
   "cell_type": "markdown",
   "id": "0f18fe5b",
   "metadata": {},
   "source": [
    "Window Tracking Count/Frequency (Hashmap/Counter)"
   ]
  },
  {
   "cell_type": "markdown",
   "id": "f0d02f38",
   "metadata": {},
   "source": [
    "| Difficulty | Problem                                    | Link                                                                   |\n",
    "| ---------- | ------------------------------------------ | ---------------------------------------------------------------------- |\n",
    "| 🟢 Easy    | Is Subsequence (with pointer, not Counter) | [LC 392](https://leetcode.com/problems/is-subsequence/)                |\n",
    "| 🟡 Medium  | Permutation in String                      | [LC 567](https://leetcode.com/problems/permutation-in-string/)         |\n",
    "| 🟡 Medium  | Find All Anagrams in a String              | [LC 438](https://leetcode.com/problems/find-all-anagrams-in-a-string/) |\n",
    "| 🔴 Hard    | Minimum Window Substring                   | [LC 76](https://leetcode.com/problems/minimum-window-substring/)       |\n",
    "\n"
   ]
  },
  {
   "cell_type": "markdown",
   "id": "42430215",
   "metadata": {},
   "source": [
    "### Two Pointer + Count Subarray that meet a Condition"
   ]
  },
  {
   "cell_type": "markdown",
   "id": "8c8e50d9",
   "metadata": {},
   "source": [
    "| Difficulty | Problem                                              | Link                                                                                           |\n",
    "| ---------- | ---------------------------------------------------- | ---------------------------------------------------------------------------------------------- |\n",
    "| 🟢 Easy    | Subarray Product Less Than K                         | [LC 713](https://leetcode.com/problems/subarray-product-less-than-k/)                          |\n",
    "| 🟡 Medium  | Count Number of Nice Subarrays                       | [LC 1248](https://leetcode.com/problems/count-number-of-nice-subarrays/)                       |\n",
    "| 🔴 Hard    | Subarrays with K Different Integers                  | [LC 992](https://leetcode.com/problems/subarrays-with-k-different-integers/)                   |\n",
    "| 🔴 Hard    | Number of Substrings Containing All Three Characters | [LC 1358](https://leetcode.com/problems/number-of-substrings-containing-all-three-characters/) |\n"
   ]
  },
  {
   "cell_type": "markdown",
   "id": "597e3098",
   "metadata": {},
   "source": [
    "### Monotonic Sliding Window"
   ]
  },
  {
   "cell_type": "markdown",
   "id": "c5ec4183",
   "metadata": {},
   "source": [
    "| Difficulty | Problem                | Link                                                            |\n",
    "| ---------- | ---------------------- | --------------------------------------------------------------- |\n",
    "| 🟡 Medium  | Sliding Window Maximum | [LC 239](https://leetcode.com/problems/sliding-window-maximum/) |\n",
    "| 🔴 Hard    | Sliding Window Median  | [LC 480](https://leetcode.com/problems/sliding-window-median/)  |\n"
   ]
  }
 ],
 "metadata": {
  "kernelspec": {
   "display_name": "Python 3",
   "language": "python",
   "name": "python3"
  },
  "language_info": {
   "codemirror_mode": {
    "name": "ipython",
    "version": 3
   },
   "file_extension": ".py",
   "mimetype": "text/x-python",
   "name": "python",
   "nbconvert_exporter": "python",
   "pygments_lexer": "ipython3",
   "version": "3.11.7"
  }
 },
 "nbformat": 4,
 "nbformat_minor": 5
}

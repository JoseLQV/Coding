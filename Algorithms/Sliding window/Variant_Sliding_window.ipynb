{
 "cells": [
  {
   "cell_type": "markdown",
   "id": "47d89d3a",
   "metadata": {},
   "source": [
    "# Sliding Window Variants:\n",
    "\n"
   ]
  },
  {
   "cell_type": "markdown",
   "id": "3c423c39",
   "metadata": {},
   "source": [
    "### Fixed Size Sliding Window"
   ]
  },
  {
   "cell_type": "markdown",
   "id": "196a247d",
   "metadata": {},
   "source": [
    "| Difficulty | Problem                       | Link                                                                   |\n",
    "| ---------- | ----------------------------- | ---------------------------------------------------------------------- |\n",
    "| 🟢 Easy    | Maximum Average Subarray I    | [LC 643](https://leetcode.com/problems/maximum-average-subarray-i/)    |\n",
    "| 🟡 Medium  | Permutation in String         | [LC 567](https://leetcode.com/problems/permutation-in-string/)         |\n",
    "| 🟡 Medium  | Find All Anagrams in a String | [LC 438](https://leetcode.com/problems/find-all-anagrams-in-a-string/) |\n",
    "| 🔴 Hard    | Sliding Window Median         | [LC 480](https://leetcode.com/problems/sliding-window-median/)         |\n"
   ]
  },
  {
   "cell_type": "markdown",
   "id": "912afb6d",
   "metadata": {},
   "source": [
    "### Variable Size, Shrink Until Valid"
   ]
  },
  {
   "cell_type": "markdown",
   "id": "fc0ba4d3",
   "metadata": {},
   "source": [
    "| Difficulty | Problem                                                | Link                                                                                            |\n",
    "| ---------- | ------------------------------------------------------ | ----------------------------------------------------------------------------------------------- |\n",
    "| 🟢 Easy    | Longest Substring Without Repeating Characters         | [LC 3](https://leetcode.com/problems/longest-substring-without-repeating-characters/)           |\n",
    "| 🟡 Medium  | Minimum Size Subarray Sum                              | [LC 209](https://leetcode.com/problems/minimum-size-subarray-sum/)                              |\n",
    "| 🟡 Medium  | Longest Substring with At Most Two Distinct Characters | [LC 159](https://leetcode.com/problems/longest-substring-with-at-most-two-distinct-characters/) |\n",
    "| 🔴 Hard    | Minimum Window Substring                               | [LC 76](https://leetcode.com/problems/minimum-window-substring/)                                |\n",
    "| 🔴 Hard    | Longest Substring with At Most K Distinct Characters   | [LC 340](https://leetcode.com/problems/longest-substring-with-at-most-k-distinct-characters/)   |\n"
   ]
  },
  {
   "cell_type": "markdown",
   "id": "0f18fe5b",
   "metadata": {},
   "source": [
    "Window Tracking Count/Frequency (Hashmap/Counter)"
   ]
  },
  {
   "cell_type": "markdown",
   "id": "f0d02f38",
   "metadata": {},
   "source": [
    "| Difficulty | Problem                                    | Link                                                                   |\n",
    "| ---------- | ------------------------------------------ | ---------------------------------------------------------------------- |\n",
    "| 🟢 Easy    | Is Subsequence (with pointer, not Counter) | [LC 392](https://leetcode.com/problems/is-subsequence/)                |\n",
    "| 🟡 Medium  | Permutation in String                      | [LC 567](https://leetcode.com/problems/permutation-in-string/)         |\n",
    "| 🟡 Medium  | Find All Anagrams in a String              | [LC 438](https://leetcode.com/problems/find-all-anagrams-in-a-string/) |\n",
    "| 🔴 Hard    | Minimum Window Substring                   | [LC 76](https://leetcode.com/problems/minimum-window-substring/)       |\n",
    "\n"
   ]
  },
  {
   "cell_type": "markdown",
   "id": "42430215",
   "metadata": {},
   "source": [
    "### Two Pointer + Count Subarray that meet a Condition"
   ]
  },
  {
   "cell_type": "markdown",
   "id": "8c8e50d9",
   "metadata": {},
   "source": [
    "| Difficulty | Problem                                              | Link                                                                                           |\n",
    "| ---------- | ---------------------------------------------------- | ---------------------------------------------------------------------------------------------- |\n",
    "| 🟢 Easy    | Subarray Product Less Than K                         | [LC 713](https://leetcode.com/problems/subarray-product-less-than-k/)                          |\n",
    "| 🟡 Medium  | Count Number of Nice Subarrays                       | [LC 1248](https://leetcode.com/problems/count-number-of-nice-subarrays/)                       |\n",
    "| 🔴 Hard    | Subarrays with K Different Integers                  | [LC 992](https://leetcode.com/problems/subarrays-with-k-different-integers/)                   |\n",
    "| 🔴 Hard    | Number of Substrings Containing All Three Characters | [LC 1358](https://leetcode.com/problems/number-of-substrings-containing-all-three-characters/) |\n"
   ]
  },
  {
   "cell_type": "markdown",
   "id": "597e3098",
   "metadata": {},
   "source": [
    "### Monotonic Sliding Window"
   ]
  },
  {
   "cell_type": "markdown",
   "id": "c5ec4183",
   "metadata": {},
   "source": [
    "| Difficulty | Problem                | Link                                                            |\n",
    "| ---------- | ---------------------- | --------------------------------------------------------------- |\n",
    "| 🟡 Medium  | Sliding Window Maximum | [LC 239](https://leetcode.com/problems/sliding-window-maximum/) |\n",
    "| 🔴 Hard    | Sliding Window Median  | [LC 480](https://leetcode.com/problems/sliding-window-median/)  |\n"
   ]
  }
 ],
 "metadata": {
  "language_info": {
   "name": "python"
  }
 },
 "nbformat": 4,
 "nbformat_minor": 5
}

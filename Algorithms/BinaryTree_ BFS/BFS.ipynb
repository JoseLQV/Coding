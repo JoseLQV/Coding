{
 "cells": [
  {
   "cell_type": "markdown",
   "id": "1ed1ba6b",
   "metadata": {},
   "source": [
    "# BFS in Binary Tree"
   ]
  },
  {
   "cell_type": "markdown",
   "id": "d5e3a8a6",
   "metadata": {},
   "source": [
    "\n",
    "\n",
    "## 1️⃣ Minimum Depth / Early Exit BFS\n",
    "\n",
    "| Problem | LC # | Difficulty | Key Skill |\n",
    "|---------|-------|------------|-----------|\n",
    "| Minimum Depth of Binary Tree | 111 | 🟢 Easy | Early exit BFS at leaf |\n",
    "| Maximum Depth of Binary Tree | 104 | 🟢 Easy | Max levels count |\n",
    "| Sum of Left Leaves | 404 | 🟢 Easy | BFS with side logic |\n",
    "| Deepest Leaves Sum | 1302 | 🟡 Medium | Sum last level nodes |\n",
    "| All Nodes Distance K in Binary Tree | 863 | 🔴 Hard | BFS on tree as graph |\n",
    "\n",
    "---\n",
    "\n",
    "## 2️⃣ Level Order Traversal\n",
    "\n",
    "| Problem | LC # | Difficulty | Key Skill |\n",
    "|---------|-------|------------|-----------|\n",
    "| Binary Tree Level Order Traversal | 102 | 🟡 Medium | Core BFS with queue |\n",
    "| Level Order Traversal II (Bottom-Up) | 107 | 🟡 Medium | Reverse level order |\n",
    "| Average of Levels in Binary Tree | 637 | 🟢 Easy | Aggregations by level |\n",
    "| Find Largest Value in Each Tree Row | 515 | 🟡 Medium | Max per level |\n",
    "| N-ary Tree Level Order Traversal | 429 | 🟡 Medium | BFS on N-ary trees |\n",
    "| Vertical Order Traversal of Binary Tree | 987 | 🔴 Hard | BFS + sorting by column |\n",
    "\n",
    "---\n",
    "\n",
    "## 3️⃣ Right/Left Side View\n",
    "\n",
    "| Problem | LC # | Difficulty | Key Skill |\n",
    "|---------|-------|------------|-----------|\n",
    "| Binary Tree Right Side View | 199 | 🟡 Medium | Last node at each level |\n",
    "| Binary Tree Left Side View (custom) | — | 🟡 Medium | Mirror of right view |\n",
    "| Find Largest Value in Each Tree Row | 515 | 🟡 Medium | Max per level |\n",
    "| Populating Next Right Pointers I | 116 | 🟡 Medium | Link nodes in perfect tree |\n",
    "| Populating Next Right Pointers II | 117 | 🔴 Hard | Link nodes in any tree |\n",
    "\n",
    "---\n",
    "\n",
    "## 4️⃣ Zigzag Level Order Traversal\n",
    "\n",
    "| Problem | LC # | Difficulty | Key Skill |\n",
    "|---------|-------|------------|-----------|\n",
    "| Binary Tree Zigzag Level Order Traversal | 103 | 🟡 Medium | Alternate directions per level |\n",
    "| Binary Tree Level Order Traversal | 102 | 🟡 Medium | Base BFS traversal |\n",
    "| Vertical Order Traversal of Binary Tree | 987 | 🔴 Hard | BFS + coordinates + sorting |\n",
    "\n",
    "---\n",
    "\n",
    "## 5️⃣ Next Right Pointers\n",
    "\n",
    "| Problem | LC # | Difficulty | Key Skill |\n",
    "|---------|-------|------------|-----------|\n",
    "| Populating Next Right Pointers I | 116 | 🟡 Medium | Link `.next` in perfect tree |\n",
    "| Populating Next Right Pointers II | 117 | 🔴 Hard | Link `.next` in any binary tree |\n",
    "| Cousins in Binary Tree | 993 | 🟢 Easy | BFS to check cousins by level |\n",
    "| Binary Tree Right Side View | 199 | 🟡 Medium | Rightmost node per level |\n",
    "| Amount of Time for Binary Tree to Be Infected | 2385 | 🔴 Hard | Graph BFS from tree infection |\n",
    "\n"
   ]
  }
 ],
 "metadata": {
  "language_info": {
   "name": "python"
  }
 },
 "nbformat": 4,
 "nbformat_minor": 5
}

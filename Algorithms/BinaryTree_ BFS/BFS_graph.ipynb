{
 "cells": [
  {
   "cell_type": "markdown",
   "id": "2eb18958",
   "metadata": {},
   "source": [
    "# BFS Graph"
   ]
  },
  {
   "cell_type": "markdown",
   "id": "fc03cf9e",
   "metadata": {},
   "source": [
    "| **Variant**                      | **Problem** (clickable)                                                                                             | **Key Concepts**                 | **Difficulty** |\n",
    "| -------------------------------- | ------------------------------------------------------------------------------------------------------------------- | -------------------------------- | -------------- |\n",
    "| **Shortest Path (Unweighted)**   | [Leetcode 127. Word Ladder](https://leetcode.com/problems/word-ladder/)                                             | Classic unweighted shortest path | Medium 🔥      |\n",
    "|                                  | [Leetcode 752. Open the Lock](https://leetcode.com/problems/open-the-lock/)                                         | BFS + deadends + shortest steps  | Medium         |\n",
    "|                                  | [Leetcode 1091. Shortest Path in Binary Matrix](https://leetcode.com/problems/shortest-path-in-binary-matrix/)      | Grid BFS shortest path           | Medium         |\n",
    "|                                  | [Leetcode 433. Minimum Genetic Mutation](https://leetcode.com/problems/minimum-genetic-mutation/)                   | Mutation path using BFS          | Medium         |\n",
    "| **Level Order Traversal**        | [Leetcode 102. Binary Tree Level Order Traversal](https://leetcode.com/problems/binary-tree-level-order-traversal/) | Classic level-by-level BFS       | Easy           |\n",
    "|                                  | [Leetcode 103. Zigzag Level Order](https://leetcode.com/problems/binary-tree-zigzag-level-order-traversal/)         | Alternate direction levels       | Medium         |\n",
    "|                                  | [Leetcode 199. Binary Tree Right Side View](https://leetcode.com/problems/binary-tree-right-side-view/)             | Last node per level              | Medium         |\n",
    "| **Multi-Source BFS**             | [Leetcode 994. Rotting Oranges](https://leetcode.com/problems/rotting-oranges/)                                     | Start from all rotten            | Medium 🔥      |\n",
    "|                                  | [Leetcode 542. 01 Matrix](https://leetcode.com/problems/01-matrix/)                                                 | Nearest 0 from each 1            | Medium         |\n",
    "|                                  | [Leetcode 286. Walls and Gates](https://leetcode.com/problems/walls-and-gates/)                                     | Shortest gate to room            | Medium         |\n",
    "| **Grid BFS**                     | [Leetcode 200. Number of Islands](https://leetcode.com/problems/number-of-islands/)                                 | Connected components             | Medium 🔥      |\n",
    "|                                  | [Leetcode 695. Max Area of Island](https://leetcode.com/problems/max-area-of-island/)                               | Max BFS component area           | Medium         |\n",
    "|                                  | [Leetcode 130. Surrounded Regions](https://leetcode.com/problems/surrounded-regions/)                               | Edge flood-fill                  | Medium         |\n",
    "| **BFS + State Tracking**         | [Leetcode 847. Shortest Path Visiting All Nodes](https://leetcode.com/problems/shortest-path-visiting-all-nodes/)   | BFS with bitmask state           | Hard 🔥        |\n",
    "|                                  | [Leetcode 864. Shortest Path to Get All Keys](https://leetcode.com/problems/shortest-path-to-get-all-keys/)         | BFS with keys as state           | Hard           |\n",
    "|                                  | [Leetcode 773. Sliding Puzzle](https://leetcode.com/problems/sliding-puzzle/)                                       | BFS with board config as state   | Hard           |\n",
    "| **Cycle Detection (Undirected)** | [Leetcode 261. Graph Valid Tree](https://leetcode.com/problems/graph-valid-tree/)                                   | BFS with parent tracking         | Medium         |\n",
    "|                                  | [Leetcode 785. Is Graph Bipartite?](https://leetcode.com/problems/is-graph-bipartite/)                              | BFS with coloring                | Medium         |\n",
    "| **Topological Sort (BFS)**       | [Leetcode 207. Course Schedule](https://leetcode.com/problems/course-schedule/)                                     | Kahn’s algorithm                 | Medium 🔥      |\n",
    "|                                  | [Leetcode 210. Course Schedule II](https://leetcode.com/problems/course-schedule-ii/)                               | Return order                     | Medium         |\n"
   ]
  },
  {
   "cell_type": "markdown",
   "id": "1d9acc00",
   "metadata": {},
   "source": [
    "### Universal Template :\n"
   ]
  },
  {
   "cell_type": "code",
   "execution_count": null,
   "id": "b80181e0",
   "metadata": {},
   "outputs": [],
   "source": [
    "from collections import deque, defaultdict\n",
    "\n",
    "def bfs(start, graph):\n",
    "    visited = set()\n",
    "    queue = deque([start])\n",
    "    visited.add(start)\n",
    "\n",
    "    while queue:\n",
    "        node = queue.popleft()\n",
    "        # Process node here (e.g., check condition, build result, etc.)\n",
    "\n",
    "        for neighbor in graph[node]:\n",
    "            if neighbor not in visited:\n",
    "                visited.add(neighbor)\n",
    "                queue.append(neighbor)\n"
   ]
  },
  {
   "cell_type": "markdown",
   "id": "83366907",
   "metadata": {},
   "source": [
    "| **Algorithm**        | **0-20 Beginner**                                                                                                   | **21-40 Basic Understanding**                                                                                   | **41-60 Intermediate**                                                                                         | **61-80 Advanced**                                                                                                           | **81-100 Mastery**                                                                                                                       |\n",
    "| -------------------- | ------------------------------------------------------------------------------------------------------------------- | --------------------------------------------------------------------------------------------------------------- | -------------------------------------------------------------------------------------------------------------- | ---------------------------------------------------------------------------------------------------------------------------- | ---------------------------------------------------------------------------------------------------------------------------------------- |\n",
    "| **DFS**              | - Understand graph traversal basics                                                                                 | - Implement recursive DFS                                                                                       | - Connected components, cycle detection                                                                        | - Iterative DFS, pathfinding                                                                                                 | - Topological sort, strongly connected components                                                                                        |\n",
    "|                      | **LeetCode:**                                                                                                       | **LeetCode:**                                                                                                   | **LeetCode:**                                                                                                  | **LeetCode:**                                                                                                                | **LeetCode:**                                                                                                                            |\n",
    "|                      | [104. Maximum Depth of Binary Tree (Easy)](https://leetcode.com/problems/maximum-depth-of-binary-tree/)             | [200. Number of Islands (Medium)](https://leetcode.com/problems/number-of-islands/)                             | [130. Surrounded Regions (Medium)](https://leetcode.com/problems/surrounded-regions/)                          | [695. Max Area of Island (Medium)](https://leetcode.com/problems/max-area-of-island/)                                        | [210. Course Schedule II (Medium)](https://leetcode.com/problems/course-schedule-ii/)                                                    |\n",
    "|                      | [257. Binary Tree Paths (Easy)](https://leetcode.com/problems/binary-tree-paths/)                                   | [141. Linked List Cycle (Easy)](https://leetcode.com/problems/linked-list-cycle/)                               | [332. Reconstruct Itinerary (Medium)](https://leetcode.com/problems/reconstruct-itinerary/)                    | [399. Evaluate Division (Medium)](https://leetcode.com/problems/evaluate-division/)                                          | \\[ Strongly Connected Components (Tarjan's Algorithm, outside LeetCode)]                                                                 |\n",
    "| **BFS**              | - Understand BFS queue usage                                                                                        | - BFS level traversal, shortest path unweighted                                                                 | - Multi-source BFS, shortest path reconstruction                                                               | - BFS with constraints (grid BFS)                                                                                            | - Bidirectional BFS, BFS in weighted graphs                                                                                              |\n",
    "|                      | **LeetCode:**                                                                                                       | **LeetCode:**                                                                                                   | **LeetCode:**                                                                                                  | **LeetCode:**                                                                                                                | **LeetCode:**                                                                                                                            |\n",
    "|                      | [102. Binary Tree Level Order Traversal (Medium)](https://leetcode.com/problems/binary-tree-level-order-traversal/) | [127. Word Ladder (Hard)](https://leetcode.com/problems/word-ladder/) (basic BFS structure)                     | [542. 01 Matrix (Medium)](https://leetcode.com/problems/01-matrix/)                                            | [305. Number of Islands II (Hard)](https://leetcode.com/problems/number-of-islands-ii/)                                      | [126. Word Ladder II (Hard)](https://leetcode.com/problems/word-ladder-ii/)                                                              |\n",
    "|                      | [733. Flood Fill (Easy)](https://leetcode.com/problems/flood-fill/)                                                 | [133. Clone Graph (Medium)](https://leetcode.com/problems/clone-graph/)                                         | [1091. Shortest Path in Binary Matrix (Medium)](https://leetcode.com/problems/shortest-path-in-binary-matrix/) | [815. Bus Routes (Hard)](https://leetcode.com/problems/bus-routes/)                                                          | \\[Bidirectional BFS - practice from custom or contest problems]                                                                          |\n",
    "| **Topological Sort** | - Understand DAG and in-degree                                                                                      | - DFS based topological sort                                                                                    | - Kahn’s Algorithm (BFS topological sort)                                                                      | - Cycle detection in DAG                                                                                                     | - Scheduling problems and advanced topological order                                                                                     |\n",
    "|                      | **LeetCode:**                                                                                                       | **LeetCode:**                                                                                                   | **LeetCode:**                                                                                                  | **LeetCode:**                                                                                                                | **LeetCode:**                                                                                                                            |\n",
    "|                      | [207. Course Schedule (Medium)](https://leetcode.com/problems/course-schedule/)                                     | [210. Course Schedule II (Medium)](https://leetcode.com/problems/course-schedule-ii/)                           | [269. Alien Dictionary (Hard)](https://leetcode.com/problems/alien-dictionary/)                                | [444. Sequence Reconstruction (Medium)](https://leetcode.com/problems/sequence-reconstruction/)                              | [1203. Sort Items by Groups Respecting Dependencies (Hard)](https://leetcode.com/problems/sort-items-by-groups-respecting-dependencies/) |\n",
    "| **Union-Find (DSU)** | - Understand union and find basics                                                                                  | - Implement naive union-find                                                                                    | - Path compression and union by rank                                                                           | - Cycle detection in undirected graph                                                                                        | - Kruskal’s MST and offline queries                                                                                                      |\n",
    "|                      | **LeetCode:**                                                                                                       | **LeetCode:**                                                                                                   | **LeetCode:**                                                                                                  | **LeetCode:**                                                                                                                | **LeetCode:**                                                                                                                            |\n",
    "|                      | [697. Degree of an Array (Easy)](https://leetcode.com/problems/degree-of-an-array/) (basic DSU)                     | [684. Redundant Connection (Medium)](https://leetcode.com/problems/redundant-connection/)                       | [399. Evaluate Division (Medium)](https://leetcode.com/problems/evaluate-division/)                            | [990. Satisfiability of Equality Equations (Medium)](https://leetcode.com/problems/satisfiability-of-equality-equations/)    | [1631. Path With Minimum Effort (Medium)](https://leetcode.com/problems/path-with-minimum-effort/) (use DSU)                             |\n",
    "|                      |                                                                                                                     |                                                                                                                 |                                                                                                                |                                                                                                                              | \\[Kruskal MST - practice from other sites or contests]                                                                                   |\n",
    "| **Dijkstra**         | - Understand weighted graph basics                                                                                  | - Implement Dijkstra with priority queue                                                                        | - Reconstruct shortest path                                                                                    | - Compare with Bellman-Ford                                                                                                  | - Optimize and variants like A\\*                                                                                                         |\n",
    "|                      | **LeetCode:**                                                                                                       | **LeetCode:**                                                                                                   | **LeetCode:**                                                                                                  | **LeetCode:**                                                                                                                | **LeetCode:**                                                                                                                            |\n",
    "|                      | [743. Network Delay Time (Medium)](https://leetcode.com/problems/network-delay-time/)                               | [787. Cheapest Flights Within K Stops (Medium)](https://leetcode.com/problems/cheapest-flights-within-k-stops/) | [1631. Path With Minimum Effort (Medium)](https://leetcode.com/problems/path-with-minimum-effort/)             | [1129. Shortest Path with Alternating Colors (Medium)](https://leetcode.com/problems/shortest-path-with-alternating-colors/) | \\[Using A\\* or advanced Dijkstra variations - usually from contests]                                                                     |\n"
   ]
  }
 ],
 "metadata": {
  "kernelspec": {
   "display_name": "Python 3",
   "language": "python",
   "name": "python3"
  },
  "language_info": {
   "name": "python",
   "version": "3.11.7"
  }
 },
 "nbformat": 4,
 "nbformat_minor": 5
}

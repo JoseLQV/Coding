{
 "cells": [
  {
   "cell_type": "markdown",
   "id": "2eb18958",
   "metadata": {},
   "source": [
    "# BFS Graph"
   ]
  },
  {
   "cell_type": "markdown",
   "id": "fc03cf9e",
   "metadata": {},
   "source": [
    "| **Variant**                      | **Problem** (clickable)                                                                                             | **Key Concepts**                 | **Difficulty** |\n",
    "| -------------------------------- | ------------------------------------------------------------------------------------------------------------------- | -------------------------------- | -------------- |\n",
    "| **Shortest Path (Unweighted)**   | [Leetcode 127. Word Ladder](https://leetcode.com/problems/word-ladder/)                                             | Classic unweighted shortest path | Medium 🔥      |\n",
    "|                                  | [Leetcode 752. Open the Lock](https://leetcode.com/problems/open-the-lock/)                                         | BFS + deadends + shortest steps  | Medium         |\n",
    "|                                  | [Leetcode 1091. Shortest Path in Binary Matrix](https://leetcode.com/problems/shortest-path-in-binary-matrix/)      | Grid BFS shortest path           | Medium         |\n",
    "|                                  | [Leetcode 433. Minimum Genetic Mutation](https://leetcode.com/problems/minimum-genetic-mutation/)                   | Mutation path using BFS          | Medium         |\n",
    "| **Level Order Traversal**        | [Leetcode 102. Binary Tree Level Order Traversal](https://leetcode.com/problems/binary-tree-level-order-traversal/) | Classic level-by-level BFS       | Easy           |\n",
    "|                                  | [Leetcode 103. Zigzag Level Order](https://leetcode.com/problems/binary-tree-zigzag-level-order-traversal/)         | Alternate direction levels       | Medium         |\n",
    "|                                  | [Leetcode 199. Binary Tree Right Side View](https://leetcode.com/problems/binary-tree-right-side-view/)             | Last node per level              | Medium         |\n",
    "| **Multi-Source BFS**             | [Leetcode 994. Rotting Oranges](https://leetcode.com/problems/rotting-oranges/)                                     | Start from all rotten            | Medium 🔥      |\n",
    "|                                  | [Leetcode 542. 01 Matrix](https://leetcode.com/problems/01-matrix/)                                                 | Nearest 0 from each 1            | Medium         |\n",
    "|                                  | [Leetcode 286. Walls and Gates](https://leetcode.com/problems/walls-and-gates/)                                     | Shortest gate to room            | Medium         |\n",
    "| **Grid BFS**                     | [Leetcode 200. Number of Islands](https://leetcode.com/problems/number-of-islands/)                                 | Connected components             | Medium 🔥      |\n",
    "|                                  | [Leetcode 695. Max Area of Island](https://leetcode.com/problems/max-area-of-island/)                               | Max BFS component area           | Medium         |\n",
    "|                                  | [Leetcode 130. Surrounded Regions](https://leetcode.com/problems/surrounded-regions/)                               | Edge flood-fill                  | Medium         |\n",
    "| **BFS + State Tracking**         | [Leetcode 847. Shortest Path Visiting All Nodes](https://leetcode.com/problems/shortest-path-visiting-all-nodes/)   | BFS with bitmask state           | Hard 🔥        |\n",
    "|                                  | [Leetcode 864. Shortest Path to Get All Keys](https://leetcode.com/problems/shortest-path-to-get-all-keys/)         | BFS with keys as state           | Hard           |\n",
    "|                                  | [Leetcode 773. Sliding Puzzle](https://leetcode.com/problems/sliding-puzzle/)                                       | BFS with board config as state   | Hard           |\n",
    "| **Cycle Detection (Undirected)** | [Leetcode 261. Graph Valid Tree](https://leetcode.com/problems/graph-valid-tree/)                                   | BFS with parent tracking         | Medium         |\n",
    "|                                  | [Leetcode 785. Is Graph Bipartite?](https://leetcode.com/problems/is-graph-bipartite/)                              | BFS with coloring                | Medium         |\n",
    "| **Topological Sort (BFS)**       | [Leetcode 207. Course Schedule](https://leetcode.com/problems/course-schedule/)                                     | Kahn’s algorithm                 | Medium 🔥      |\n",
    "|                                  | [Leetcode 210. Course Schedule II](https://leetcode.com/problems/course-schedule-ii/)                               | Return order                     | Medium         |\n"
   ]
  },
  {
   "cell_type": "markdown",
   "id": "1d9acc00",
   "metadata": {},
   "source": [
    "### Universal Template :\n"
   ]
  },
  {
   "cell_type": "code",
   "execution_count": null,
   "id": "b80181e0",
   "metadata": {},
   "outputs": [],
   "source": [
    "from collections import deque, defaultdict\n",
    "\n",
    "def bfs(start, graph):\n",
    "    visited = set()\n",
    "    queue = deque([start])\n",
    "    visited.add(start)\n",
    "\n",
    "    while queue:\n",
    "        node = queue.popleft()\n",
    "        # Process node here (e.g., check condition, build result, etc.)\n",
    "\n",
    "        for neighbor in graph[node]:\n",
    "            if neighbor not in visited:\n",
    "                visited.add(neighbor)\n",
    "                queue.append(neighbor)\n"
   ]
  }
 ],
 "metadata": {
  "kernelspec": {
   "display_name": "Python 3",
   "language": "python",
   "name": "python3"
  },
  "language_info": {
   "name": "python",
   "version": "3.11.7"
  }
 },
 "nbformat": 4,
 "nbformat_minor": 5
}

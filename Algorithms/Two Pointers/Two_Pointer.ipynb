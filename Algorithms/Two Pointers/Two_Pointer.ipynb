{
 "cells": [
  {
   "cell_type": "markdown",
   "id": "056c21bb",
   "metadata": {},
   "source": [
    "# Two Pointer"
   ]
  },
  {
   "cell_type": "markdown",
   "id": "03d76147",
   "metadata": {},
   "source": [
    "### Template \n",
    "\n",
    "\n",
    "- Initialize\n",
    "- traverse: \n",
    "    *main logic*\n",
    "    if found\n",
    "    move left \n",
    "    move right"
   ]
  },
  {
   "cell_type": "code",
   "execution_count": null,
   "id": "db3e89c5",
   "metadata": {},
   "outputs": [
    {
     "ename": "",
     "evalue": "",
     "output_type": "error",
     "traceback": [
      "\u001b[1;31mThe Kernel crashed while executing code in the current cell or a previous cell. \n",
      "\u001b[1;31mPlease review the code in the cell(s) to identify a possible cause of the failure. \n",
      "\u001b[1;31mClick <a href='https://aka.ms/vscodeJupyterKernelCrash'>here</a> for more info. \n",
      "\u001b[1;31mView Jupyter <a href='command:jupyter.viewOutput'>log</a> for further details."
     ]
    }
   ],
   "source": [
    "def two_pointers_template(nums, target):\n",
    "    left = 0\n",
    "    right = len(nums) - 1\n",
    "\n",
    "    while left < right:\n",
    "        # 👇 Example logic: sum, comparison, swap, count, etc.\n",
    "        current = nums[left] + nums[right]\n",
    "\n",
    "        if current == target:\n",
    "            # ✅ Found condition\n",
    "            return [left, right]\n",
    "\n",
    "        elif current < target:\n",
    "            # 👉 Move left pointer to increase sum\n",
    "            left += 1\n",
    "        else:\n",
    "            # 👈 Move right pointer to decrease sum\n",
    "            right -= 1\n",
    "\n",
    "    return []\n"
   ]
  },
  {
   "cell_type": "markdown",
   "id": "267ebd2b",
   "metadata": {},
   "source": [
    "# EASY\n",
    "| Problem                                                                                                           | Pattern             |\n",
    "| ----------------------------------------------------------------------------------------------------------------- | ------------------- |\n",
    "| [Two Sum II - Input Array is Sorted (LC 167)](https://leetcode.com/problems/two-sum-ii-input-array-is-sorted/)    | Classic             |\n",
    "| [Reverse String (LC 344)](https://leetcode.com/problems/reverse-string/)                                          | In-place reversal   |\n",
    "| [Valid Palindrome (LC 125)](https://leetcode.com/problems/valid-palindrome/)                                      | Ignore non-alphanum |\n",
    "| [Remove Duplicates from Sorted Array (LC 26)](https://leetcode.com/problems/remove-duplicates-from-sorted-array/) | In-place overwrite  |\n"
   ]
  },
  {
   "cell_type": "markdown",
   "id": "a198cea6",
   "metadata": {},
   "source": [
    "# MEDIUM"
   ]
  },
  {
   "cell_type": "markdown",
   "id": "226f2dee",
   "metadata": {},
   "source": [
    "| Problem                                                                                                                 | Key Concepts               |\n",
    "| ----------------------------------------------------------------------------------------------------------------------- | -------------------------- |\n",
    "| [3Sum (LC 15)](https://leetcode.com/problems/3sum/)                                                                     | Two pointers inside a loop |\n",
    "| [Container With Most Water (LC 11)](https://leetcode.com/problems/container-with-most-water/)                           | Max area trick             |\n",
    "| [Sort Colors (LC 75)](https://leetcode.com/problems/sort-colors/)                                                       | Dutch National Flag        |\n",
    "| [Minimum Size Subarray Sum (LC 209)](https://leetcode.com/problems/minimum-size-subarray-sum/)                          | Shrinking window           |\n",
    "| [Longest Substring After Replacement (LC 424)](https://leetcode.com/problems/longest-repeating-character-replacement/)  | Sliding + window control   |\n",
    "| [Remove Duplicates from Sorted Array II (LC 80)](https://leetcode.com/problems/remove-duplicates-from-sorted-array-ii/) | Extra pointer logic        |\n",
    "| [Longest Mountain in Array (LC 845)](https://leetcode.com/problems/longest-mountain-in-array/)                          | Peak and fall strategy     |\n"
   ]
  },
  {
   "cell_type": "markdown",
   "id": "0f0e67d5",
   "metadata": {},
   "source": [
    "# HARD"
   ]
  },
  {
   "cell_type": "markdown",
   "id": "4d7f2e50",
   "metadata": {},
   "source": [
    "| Problem                                                                                                                                              | Key Concepts                                              |\n",
    "| ---------------------------------------------------------------------------------------------------------------------------------------------------- | --------------------------------------------------------- |\n",
    "| [Sliding Window Maximum (LC 239)](https://leetcode.com/problems/sliding-window-maximum/)                                                             | Monotonic deque + window                                  |\n",
    "| [4Sum (LC 18)](https://leetcode.com/problems/4sum/)                                                                                                  | Nested 2-pointer + deduplication                          |\n",
    "| [Trapping Rain Water (LC 42)](https://leetcode.com/problems/trapping-rain-water/)                                                                    | Max left/right pointers                                   |\n",
    "| [Palindrome Pairs (LC 336)](https://leetcode.com/problems/palindrome-pairs/)                                                                         | Reverse string + dictionary                               |\n",
    "| [Minimum Window Substring (LC 76)](https://leetcode.com/problems/minimum-window-substring/)                                                          | Shrinking/growing window                                  |\n",
    "| [Count of Smaller Numbers After Self (LC 315)](https://leetcode.com/problems/count-of-smaller-numbers-after-self/)                                   | Modified merge sort (not exactly two-pointer but related) |\n",
    "| [Longest Substring with At Most K Distinct Characters (LC 340)](https://leetcode.com/problems/longest-substring-with-at-most-k-distinct-characters/) | Sliding window + hashmap                                  |\n"
   ]
  }
 ],
 "metadata": {
  "kernelspec": {
   "display_name": "Python 3",
   "language": "python",
   "name": "python3"
  },
  "language_info": {
   "codemirror_mode": {
    "name": "ipython",
    "version": 3
   },
   "file_extension": ".py",
   "mimetype": "text/x-python",
   "name": "python",
   "nbconvert_exporter": "python",
   "pygments_lexer": "ipython3",
   "version": "3.11.7"
  }
 },
 "nbformat": 4,
 "nbformat_minor": 5
}

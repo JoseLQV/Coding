{
 "cells": [
  {
   "cell_type": "markdown",
   "id": "35c93f69",
   "metadata": {},
   "source": [
    "# Layer by Layer Matrix"
   ]
  },
  {
   "cell_type": "markdown",
   "id": "c1190860",
   "metadata": {},
   "source": [
    "### 1) Core Template:"
   ]
  },
  {
   "cell_type": "code",
   "execution_count": 4,
   "id": "60dbb2eb",
   "metadata": {},
   "outputs": [],
   "source": [
    "# Core template: \n",
    "\n",
    "# Pointers for the current \"ring\":\n",
    "matrix = [[]]\n",
    "\n",
    "top = 0\n",
    "left = 0\n",
    "right = len(matrix[0]) -1\n",
    "bottom =  len(matrix)-1\n",
    "\n",
    "while top <= bottom and left <= right:\n",
    "    # traverse layers\n",
    "    \n",
    "    #left to right and top\n",
    "    for col in range(left, right+1):\n",
    "        print(matrix[top][col])\n",
    "    \n",
    "    #top to bottom and right\n",
    "    for row in range(top, bottom+1):\n",
    "        print(matrix[row][right])\n",
    "    \n",
    "    #right to left and bottom:\n",
    "    if top < bottom: # traversal edge case\n",
    "        for col in range(right -1, left-1, -1):\n",
    "            print(matrix[bottom][col])\n",
    "    \n",
    "    # bottom to top and left\n",
    "    if left < right:\n",
    "        for row in range(bottom -1, top -1, -1):\n",
    "              print(matrix[row][left])\n",
    "            \n",
    "            \n",
    "    \n",
    "    # shrink the ring\n",
    "    top += 1\n",
    "    bottom -= 1\n",
    "    left += 1\n",
    "    right -= 1\n",
    "    \n",
    "    \n"
   ]
  },
  {
   "cell_type": "markdown",
   "id": "92babd23",
   "metadata": {},
   "source": [
    "Main take away is:\n",
    "\n",
    "- left to right and top\n",
    "- top to bottom and right\n",
    "- right to left and bottom \n",
    "- bottom to top and left"
   ]
  },
  {
   "cell_type": "code",
   "execution_count": 5,
   "id": "84fdbd75",
   "metadata": {},
   "outputs": [
    {
     "name": "stdout",
     "output_type": "stream",
     "text": [
      "0\n",
      "1\n",
      "2\n",
      "3\n",
      "4\n",
      "3\n",
      "2\n",
      "1\n",
      "0\n"
     ]
    }
   ],
   "source": [
    "arr = [11,12,13,14,15]\n",
    "\n",
    "left = 0\n",
    "right = len(arr) -1\n",
    "\n",
    "for normal in range(left, right+1):\n",
    "    print(normal)\n",
    "    \n",
    "for reversal in range(right-1, left-1,-1):\n",
    "    print(reversal)"
   ]
  },
  {
   "cell_type": "code",
   "execution_count": null,
   "id": "5255c6db",
   "metadata": {},
   "outputs": [],
   "source": [
    "#Clockwise rotation:\n",
    "\n",
    "matrix = [[]]\n",
    "\n",
    "\n",
    "left = 0\n",
    "right = len(matrix[0]) -1\n",
    "top = 0\n",
    "left = len(matrix) -1\n",
    "\n",
    "while top <= bottom and left <= right:\n",
    "    for i in range(left, right): # no right+1 because it doesn't include the right\n",
    "        # temp left+ top\n",
    "        temp= matrix[top][left+i]\n",
    "        # bottom+ left\n",
    "        matrix[top][left+i] = matrix[bottom-i][left]\n",
    "        # bottomright-\n",
    "        matrix[bottom-i][left] = matrix[bottom][right-i]\n",
    "        # top+right\n",
    "        matrix[bottom][right-i] = matrix[top+i][right]\n",
    "        # swap temp to top+right\n",
    "        matrix[top+i][right] = temp\n",
    "    \n",
    "    #shrink matrix\n",
    "    left +=1\n",
    "    right -=1\n",
    "    top +=1\n",
    "    bottom -=1\n",
    "\n",
    "print(matrix)\n",
    "    "
   ]
  },
  {
   "cell_type": "markdown",
   "id": "a7f563bc",
   "metadata": {},
   "source": [
    "Takeaway:\n",
    "Counterclockwise when rotating values in a matrix\n",
    "if start was in top left make sure to do the correct swaps\n",
    "\n",
    "bottom and right have -i\n",
    "top and left have +i\n",
    "\n",
    "temp = matrix[top][left+i]\n",
    "- bottom- left swap temp\n",
    "- bottom right- swap bottom- left\n",
    "- top+ right swap bottom right-\n",
    "- temp swap top+ right\n",
    "\n",
    "Shrink matrix"
   ]
  }
 ],
 "metadata": {
  "kernelspec": {
   "display_name": "Python 3",
   "language": "python",
   "name": "python3"
  },
  "language_info": {
   "codemirror_mode": {
    "name": "ipython",
    "version": 3
   },
   "file_extension": ".py",
   "mimetype": "text/x-python",
   "name": "python",
   "nbconvert_exporter": "python",
   "pygments_lexer": "ipython3",
   "version": "3.11.7"
  }
 },
 "nbformat": 4,
 "nbformat_minor": 5
}

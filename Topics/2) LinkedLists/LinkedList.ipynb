{
 "cells": [
  {
   "cell_type": "markdown",
   "metadata": {},
   "source": [
    "# Linked List\n"
   ]
  },
  {
   "cell_type": "markdown",
   "metadata": {},
   "source": [
    "Technique: Tortoise and Hare or Fast and Slow pointers\n"
   ]
  },
  {
   "cell_type": "markdown",
   "metadata": {},
   "source": [
    "slow pointer (1 step)\n",
    "\n",
    "fast pointer (2 step)\n",
    "\n",
    "### When\n",
    "- It can get middle node of the Linked List\n",
    "- Finds the cycle in a linked List\n"
   ]
  },
  {
   "cell_type": "markdown",
   "metadata": {},
   "source": [
    "### Examples"
   ]
  },
  {
   "cell_type": "markdown",
   "metadata": {},
   "source": [
    "Leetcode 141 Linked List Cycle"
   ]
  },
  {
   "cell_type": "code",
   "execution_count": 19,
   "metadata": {},
   "outputs": [],
   "source": [
    "from typing import Optional  # Import Optional\n",
    "\n",
    "class ListNode:\n",
    "    def __init__(self, x):\n",
    "        self.val = x\n",
    "        self.next = None\n",
    "\n",
    "class Solution:\n",
    "    def hasCycle(self, head: Optional[ListNode]) -> bool:\n",
    "        slow, fast = head, head\n",
    "        \n",
    "        while fast and fast.next:\n",
    "            fast = fast.next.next\n",
    "            slow = slow.next\n",
    "            if fast == slow:  # Detects the cycle\n",
    "                return True\n",
    "        \n",
    "        return False\n"
   ]
  },
  {
   "cell_type": "code",
   "execution_count": 20,
   "metadata": {},
   "outputs": [
    {
     "name": "stdout",
     "output_type": "stream",
     "text": [
      "All test cases passed!\n"
     ]
    }
   ],
   "source": [
    "def test_hasCycle():\n",
    "    sol = Solution()\n",
    "\n",
    "    # Test case 1: No cycle (1 -> 2 -> 3 -> None)\n",
    "    head1 = ListNode(1)\n",
    "    head1.next = ListNode(2)\n",
    "    head1.next.next = ListNode(3)\n",
    "    assert sol.hasCycle(head1) == False, \"Test case 1 failed.\"\n",
    "\n",
    "    # Test case 2: Small cycle (1 -> 2 -> 3 -> 1...)\n",
    "    head2 = ListNode(1)\n",
    "    head2.next = ListNode(2)\n",
    "    head2.next.next = ListNode(3)\n",
    "    head2.next.next.next = head2  # Cycle from node 3 back to node 1\n",
    "    assert sol.hasCycle(head2) == True, \"Test case 2 failed.\"\n",
    "\n",
    "    # Test case 3: Single node with no cycle (1 -> None)\n",
    "    head3 = ListNode(1)\n",
    "    assert sol.hasCycle(head3) == False, \"Test case 3 failed.\"\n",
    "\n",
    "    # Test case 4: Single node with cycle (1 -> 1...)\n",
    "    head4 = ListNode(1)\n",
    "    head4.next = head4  # Node points to itself, forming a cycle\n",
    "    assert sol.hasCycle(head4) == True, \"Test case 4 failed.\"\n",
    "\n",
    "    print(\"All test cases passed!\")\n",
    "\n",
    "# Running the test\n",
    "test_hasCycle()\n"
   ]
  },
  {
   "cell_type": "markdown",
   "metadata": {},
   "source": [
    "2095 Delete The Middle Node of a Linked List"
   ]
  },
  {
   "cell_type": "code",
   "execution_count": 21,
   "metadata": {},
   "outputs": [],
   "source": [
    "# Definition for singly-linked list.\n",
    "class ListNode:\n",
    "    def __init__(self, val=0, next=None):\n",
    "        self.val = val\n",
    "        self.next = next\n",
    "class Solution:\n",
    "    def deleteMiddle(self, head: Optional[ListNode]) -> Optional[ListNode]:\n",
    "        slow, fast = head,head\n",
    "        prev = None\n",
    "        \n",
    "        while fast and fast.next:\n",
    "            \n",
    "            fast = fast.next.next\n",
    "            prev = slow\n",
    "            slow = slow.next\n",
    "        \n",
    "        prev.next = slow.next\n",
    "        \n",
    "        return head\n",
    "        \n",
    "            \n",
    "        \n",
    "        \n",
    "        \n",
    "        \n",
    "        "
   ]
  },
  {
   "cell_type": "markdown",
   "metadata": {},
   "source": [
    "19. Remove Nth Node From End of List\n"
   ]
  },
  {
   "cell_type": "code",
   "execution_count": 22,
   "metadata": {},
   "outputs": [],
   "source": [
    "# Definition for singly-linked list.\n",
    "class ListNode:\n",
    "    def __init__(self, val=0, next=None):\n",
    "        self.val = val\n",
    "        self.next = next\n",
    "class Solution:\n",
    "    def removeNthFromEnd(self, head: Optional[ListNode], n: int) -> Optional[ListNode]:\n",
    "        \n",
    "        \n",
    "       \n",
    "        \n",
    "        # Edge case\n",
    "        if not head or not head.next:\n",
    "            return None\n",
    "\n",
    "        \n",
    "        # set pointers\n",
    "        dummy = ListNode(0,head)\n",
    "        slow, fast = dummy,head\n",
    "\n",
    "        \n",
    "        #set up fast\n",
    "        while n > 0 and fast:\n",
    "            fast = fast.next\n",
    "            n-= 1\n",
    "\n",
    "        \n",
    "        # traverse until fast ends in None\n",
    "        while fast:\n",
    "            fast = fast.next\n",
    "            slow = slow.next\n",
    "        \n",
    "\n",
    "  \n",
    "        # Take slow and remove it\n",
    "    \n",
    "        slow.next = slow.next.next\n",
    "        #slow.next = slow.next.next\n",
    "\n",
    "\n",
    "        return dummy.next\n",
    "\n",
    "        \n",
    "\n"
   ]
  },
  {
   "cell_type": "code",
   "execution_count": 23,
   "metadata": {},
   "outputs": [
    {
     "name": "stdout",
     "output_type": "stream",
     "text": [
      "All test cases passed!\n"
     ]
    }
   ],
   "source": [
    "def test_removeNthFromEnd():\n",
    "    sol = Solution()\n",
    "\n",
    "    # Helper function to convert list to linked list\n",
    "    def list_to_linked_list(arr):\n",
    "        if not arr:\n",
    "            return None\n",
    "        head = ListNode(arr[0])\n",
    "        current = head\n",
    "        for val in arr[1:]:\n",
    "            current.next = ListNode(val)\n",
    "            current = current.next\n",
    "        return head\n",
    "\n",
    "    # Helper function to convert linked list to list\n",
    "    def linked_list_to_list(head):\n",
    "        result = []\n",
    "        while head:\n",
    "            result.append(head.val)\n",
    "            head = head.next\n",
    "        return result\n",
    "\n",
    "    # Test case 1: Removing the last node from [1, 2, 3, 4, 5], n = 1\n",
    "    head = list_to_linked_list([1, 2, 3, 4, 5])\n",
    "    new_head = sol.removeNthFromEnd(head, 1)\n",
    "    assert linked_list_to_list(new_head) == [1, 2, 3, 4], \"Test case 1 failed\"\n",
    "\n",
    "    # Test case 2: Removing the second-to-last node from [1, 2, 3, 4, 5], n = 2\n",
    "    head = list_to_linked_list([1, 2, 3, 4, 5])\n",
    "    new_head = sol.removeNthFromEnd(head, 2)\n",
    "    assert linked_list_to_list(new_head) == [1, 2, 3, 5], \"Test case 2 failed\"\n",
    "\n",
    "    # Test case 3: Removing the head from [1, 2, 3, 4, 5], n = 5\n",
    "    head = list_to_linked_list([1, 2, 3, 4, 5])\n",
    "    new_head = sol.removeNthFromEnd(head, 5)\n",
    "    assert linked_list_to_list(new_head) == [2, 3, 4, 5], \"Test case 3 failed\"\n",
    "\n",
    "    # Test case 4: Single node list [1], n = 1 (should return None)\n",
    "    head = list_to_linked_list([1])\n",
    "    new_head = sol.removeNthFromEnd(head, 1)\n",
    "    assert new_head == None, \"Test case 4 failed\"\n",
    "\n",
    "    # Test case 5: Removing the only node from a two-node list [1, 2], n = 2\n",
    "    head = list_to_linked_list([1, 2])\n",
    "    new_head = sol.removeNthFromEnd(head, 2)\n",
    "    assert linked_list_to_list(new_head) == [2], \"Test case 5 failed\"\n",
    "\n",
    "    print(\"All test cases passed!\")\n",
    "\n",
    "# Run the tests\n",
    "test_removeNthFromEnd()\n"
   ]
  }
 ],
 "metadata": {
  "kernelspec": {
   "display_name": "Python 3",
   "language": "python",
   "name": "python3"
  },
  "language_info": {
   "codemirror_mode": {
    "name": "ipython",
    "version": 3
   },
   "file_extension": ".py",
   "mimetype": "text/x-python",
   "name": "python",
   "nbconvert_exporter": "python",
   "pygments_lexer": "ipython3",
   "version": "3.12.3"
  }
 },
 "nbformat": 4,
 "nbformat_minor": 2
}

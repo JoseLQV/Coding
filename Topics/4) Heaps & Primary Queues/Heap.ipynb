{
 "cells": [
  {
   "cell_type": "markdown",
   "metadata": {},
   "source": [
    "# Heap\n",
    "\n",
    "Definition:\n",
    "- Special Binary Tree that satisfies two Key Properties.\n",
    "- It works as a COMPLETE BINARY TREE\n",
    "\n",
    "-------------------------------------------------------------------------------"
   ]
  },
  {
   "cell_type": "markdown",
   "metadata": {},
   "source": [
    "<div style=\"background-color: white;\">\n",
    "    <img src=\"..\\Images\\Heaps.png\" alt=\"Alt text\" width=\"65%\">\n",
    "</div>"
   ]
  },
  {
   "cell_type": "markdown",
   "metadata": {},
   "source": [
    "### Max Heap:\n",
    "\n",
    "The value of each parent node is greater than or equal to the values of its children.\n"
   ]
  },
  {
   "cell_type": "code",
   "execution_count": 1,
   "metadata": {},
   "outputs": [],
   "source": [
    "\n",
    "\n",
    "class MaxHeap:\n",
    "    def __init__(self):\n",
    "        self.heap = []\n",
    "    \n",
    "    def insert(self,val):\n",
    "        self.heap.append(val)\n",
    "        \n",
    "        # Checking if heap properties to move it up the heap.\n",
    "        self.up(len(self.heap) - 1)\n",
    "        \n",
    "    def remove_max(self):\n",
    "        if len(self.heap) == 0:\n",
    "            return None\n",
    "        if len(self.heap) == 1:\n",
    "            return self.heap.pop()\n",
    "        \n",
    "        max_val = self.heap[0]\n",
    "        self.heap[0] = self.heap.pop()\n",
    "        self.down(0)\n",
    "        return max_val\n",
    "    \n",
    "    \n",
    "    \n",
    "    # -------------------- Up and Down -----------------\n",
    "    \n",
    "    # Indexes:\n",
    "    #The left child is at 2 * i + 1.\n",
    "    # The right child is at 2 * i + 2.\n",
    "    # The parent is at (i - 1) // 2.\n",
    "\n",
    "    def up(self,index):\n",
    "        #parent index\n",
    "        parent = (index -1) // 2\n",
    "        \n",
    "        # while bigger than its parent\n",
    "        while index > 0 and self.heap[index] > self.heap[parent]:\n",
    "            # swap values\n",
    "            self.heap[index], self.heap[parent], self.heap[index]\n",
    "            \n",
    "            # swap/update indexes\n",
    "            index = parent\n",
    "            parent = (index-1)//2\n",
    "        \n",
    "    def down(self,index):\n",
    "        # get left and right\n",
    "        largest = index\n",
    "        left = 2 * index + 1\n",
    "        right = 2 * index + 2\n",
    "        \n",
    "        # left exist and bigger\n",
    "        if left< len(self.heap) and self.heap[left] > self.heap[largest]:\n",
    "            largest = left\n",
    "        \n",
    "        # right exist and bigger\n",
    "        if right < len(self.heap) and self.heap[right] > self.heap[largest]:\n",
    "            largest = right\n",
    "        \n",
    "        # bigger not in the same index start swapping\n",
    "        if largest != index:\n",
    "            self.heap[index],  self.heap[largest] = self.heap[largest], self.heap[index] # swap\n",
    "            self.down(largest) \n",
    "        \n",
    "            \n",
    "        \n",
    "    \n",
    "    "
   ]
  },
  {
   "cell_type": "markdown",
   "metadata": {},
   "source": [
    "-------------------------------------------------------------------------"
   ]
  },
  {
   "cell_type": "markdown",
   "metadata": {},
   "source": [
    "### Min Heap:\n",
    "\n",
    "The value of each parent node is less than or equal to the values of its children."
   ]
  },
  {
   "cell_type": "code",
   "execution_count": 2,
   "metadata": {},
   "outputs": [],
   "source": [
    "class MinHeap:\n",
    "    def __init__(self):\n",
    "        self.heap = []\n",
    "    \n",
    "    def insert(self, val):\n",
    "        self.heap.append(val)\n",
    "        self.up(len(self.heap)-1)\n",
    "        \n",
    "    \n",
    "    def remove_min(self):\n",
    "        if len(self.heap) == 0:\n",
    "            return None\n",
    "        \n",
    "        min_val = self.heap[0]\n",
    "        last_val = self.heap.pop()\n",
    "        \n",
    "        if len(self.heap) > 0:\n",
    "            self.heap[0] = last_val\n",
    "            self.down(0)\n",
    "            \n",
    "        return min_val\n",
    "            \n",
    "    \n",
    "    # ----------- Ups and Downs ---------------\n",
    "    def up(self,index):\n",
    "        parent = (index-1)//2\n",
    "        \n",
    "        # while less go up \n",
    "        while index > 0 and self.heap[index] < self.heap[parent]:\n",
    "            # swap\n",
    "            self.heap[index], self.heap[parent] = self.heap[parent], self.heap[index]\n",
    "            index = parent\n",
    "            parent = (index-1) // 2\n",
    "            \n",
    "    \n",
    "    def down(self,index):\n",
    "        left = 2* index + 1\n",
    "        right = 2* index + 2\n",
    "        smallest = index\n",
    "        \n",
    "        if left < len(self.heap) and self.heap[left] < self.heap[smallest]:\n",
    "            smallest = left\n",
    "        \n",
    "        if right < len(self.heap) and self.heap[right] < self.heap[smallest]:\n",
    "            smallest = right\n",
    "        \n",
    "        self.heap[index], self.heap[smallest] = self.heap[smallest], self.heap[index]\n",
    "        self.down(smallest)\n",
    "    \n",
    "    \n",
    "        \n",
    "            \n",
    "        "
   ]
  },
  {
   "cell_type": "markdown",
   "metadata": {},
   "source": [
    "-------------------------------------------------------"
   ]
  }
 ],
 "metadata": {
  "kernelspec": {
   "display_name": "Python 3",
   "language": "python",
   "name": "python3"
  },
  "language_info": {
   "codemirror_mode": {
    "name": "ipython",
    "version": 3
   },
   "file_extension": ".py",
   "mimetype": "text/x-python",
   "name": "python",
   "nbconvert_exporter": "python",
   "pygments_lexer": "ipython3",
   "version": "3.12.3"
  }
 },
 "nbformat": 4,
 "nbformat_minor": 2
}

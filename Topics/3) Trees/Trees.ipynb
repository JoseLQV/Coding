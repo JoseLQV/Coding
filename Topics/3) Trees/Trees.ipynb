{
 "cells": [
  {
   "cell_type": "markdown",
   "metadata": {},
   "source": [
    "# Trees Fundamentals\n"
   ]
  },
  {
   "cell_type": "markdown",
   "metadata": {},
   "source": [
    "# Trees\n",
    "\n",
    "\n",
    "\n"
   ]
  },
  {
   "cell_type": "markdown",
   "metadata": {},
   "source": [
    "<div style=\"background-color: white;\">\n",
    "    <img src=\"..\\Images\\Tree.png\" alt=\"Alt text\" width=\"85%\">\n",
    "</div>"
   ]
  },
  {
   "cell_type": "markdown",
   "metadata": {},
   "source": [
    "# Binary Trees"
   ]
  },
  {
   "cell_type": "markdown",
   "metadata": {},
   "source": [
    "### Complete Binary Tree"
   ]
  },
  {
   "cell_type": "markdown",
   "metadata": {},
   "source": [
    "<div style=\"background-color: white;\">\n",
    "    <img src=\"..\\Images\\BinaryTreeForms.png\" alt=\"Alt text\" width=\"85%\">\n",
    "</div>"
   ]
  },
  {
   "cell_type": "markdown",
   "metadata": {},
   "source": [
    "### Full Binary Tree\n",
    "A Fully Binary Tree is a Binary Tree in which every node has either zero or two children. That is,  NO!! node have only one node.\n",
    "\n",
    "### Complete Binary Tree\n",
    "A complete binary tree is a binary tree in which every level of the tree is a fully filled, except the last levels. To the extent that the last level is filled. It is filled left to right.\n",
    "\n",
    "### Balanced Binary Tree\n",
    "A balanced binary tree is a binary tree where the height of the left and right subtrees of any node differ by no more than one.\n",
    "\n",
    "### Perfect Binary Tree\n",
    "A perfect binary tree is one where all interior nodes have two children and all leafs nodes are at the SAME level."
   ]
  },
  {
   "cell_type": "markdown",
   "metadata": {},
   "source": [
    "----------------------------------------"
   ]
  },
  {
   "cell_type": "markdown",
   "metadata": {},
   "source": [
    "<div style=\"background-color: white;\">\n",
    "    <img src=\"..\\Images\\BFSandDFS.png\" alt=\"Alt text\" width=\"85%\">\n",
    "</div>"
   ]
  },
  {
   "cell_type": "markdown",
   "metadata": {},
   "source": [
    "### Creating the Tree"
   ]
  },
  {
   "cell_type": "code",
   "execution_count": 4,
   "metadata": {},
   "outputs": [],
   "source": [
    "class TreeNode:\n",
    "    def __init__(self, value):\n",
    "        self.val = value\n",
    "        self.left = None\n",
    "        self.right = None\n",
    "\n",
    "\n",
    "# Creating nodes\n",
    "root = TreeNode(\"A\")\n",
    "root.left = TreeNode(\"B\")\n",
    "root.right = TreeNode(\"C\")\n",
    "root.left.left = TreeNode(\"D\")\n",
    "root.left.right = TreeNode(\"E\")\n",
    "root.right.left = TreeNode(\"F\")\n",
    "root.right.right = TreeNode(\"G\")\n",
    "\n"
   ]
  },
  {
   "cell_type": "markdown",
   "metadata": {},
   "source": [
    "# DFS\n"
   ]
  },
  {
   "cell_type": "markdown",
   "metadata": {},
   "source": [
    "### Recursive Traversal Template\n"
   ]
  },
  {
   "cell_type": "code",
   "execution_count": 5,
   "metadata": {},
   "outputs": [],
   "source": [
    "\n",
    "# Pre :  Node , Left CALL , Right CALL\n",
    "# In :   Left CALL , Node , Right CALL\n",
    "# Post : Left CALL , Right CALL, Node "
   ]
  },
  {
   "cell_type": "code",
   "execution_count": 6,
   "metadata": {},
   "outputs": [
    {
     "name": "stdout",
     "output_type": "stream",
     "text": [
      "['A', 'B', 'D', 'E', 'C', 'F', 'G']\n"
     ]
    }
   ],
   "source": [
    "# Pre Order:\n",
    "def preTree(root):\n",
    "    if root == None: \n",
    "        return []\n",
    "    \n",
    "    result = []\n",
    "    \n",
    "    def preOrderTraversal(node,result):\n",
    "        if node != None:\n",
    "            result.append(node.val) # Node\n",
    "            preOrderTraversal(node.left,result) # Left \n",
    "            preOrderTraversal(node.right,result) # Right\n",
    "\n",
    "\n",
    "    preOrderTraversal(root,result)\n",
    "    return result\n",
    "\n",
    "print(preTree(root))"
   ]
  },
  {
   "cell_type": "code",
   "execution_count": 7,
   "metadata": {},
   "outputs": [
    {
     "name": "stdout",
     "output_type": "stream",
     "text": [
      "['D', 'B', 'E', 'A', 'F', 'C', 'G']\n"
     ]
    }
   ],
   "source": [
    "# IN Order:\n",
    "def InTree(root):\n",
    "    if root == None: \n",
    "        return []\n",
    "    \n",
    "    result = []\n",
    "    \n",
    "    def inOrderTraversal(node,result):\n",
    "        if node != None:\n",
    "            inOrderTraversal(node.left,result) # Left\n",
    "            result.append(node.val) #  Node\n",
    "            inOrderTraversal(node.right,result) # Right\n",
    "\n",
    "\n",
    "    inOrderTraversal(root,result)\n",
    "    return result\n",
    "\n",
    "print(InTree(root))"
   ]
  },
  {
   "cell_type": "code",
   "execution_count": 8,
   "metadata": {},
   "outputs": [
    {
     "name": "stdout",
     "output_type": "stream",
     "text": [
      "['D', 'E', 'B', 'F', 'G', 'C', 'A']\n"
     ]
    }
   ],
   "source": [
    "# Post Order:\n",
    "def PostTree(root):\n",
    "    if root == None: \n",
    "        return []\n",
    "    \n",
    "    result = []\n",
    "    \n",
    "    def postOrderTraversal(node,result):\n",
    "        if node != None:\n",
    "            postOrderTraversal(node.left,result)\n",
    "            postOrderTraversal(node.right,result)\n",
    "            result.append(node.val) # Visit Node\n",
    "\n",
    "\n",
    "    postOrderTraversal(root,result)\n",
    "    return result\n",
    "\n",
    "print(PostTree(root))"
   ]
  },
  {
   "cell_type": "markdown",
   "metadata": {},
   "source": [
    "###  DFS Iterative Traversal Template\n",
    "\n",
    "Hint: Stacks\n",
    "\n",
    "\n"
   ]
  },
  {
   "cell_type": "code",
   "execution_count": 9,
   "metadata": {},
   "outputs": [
    {
     "name": "stdout",
     "output_type": "stream",
     "text": [
      "['A', 'B', 'D', 'E', 'C', 'F', 'G']\n"
     ]
    }
   ],
   "source": [
    "\n",
    "# stack implementation:\n",
    "#   stack = [] \n",
    "#   stack.append()\n",
    "#   stack.pop()\n",
    "#   stack[-1] -> peek()\n",
    "\n",
    "def dfs_iterative(root):\n",
    "    # Edge case\n",
    "    if root is None: return []\n",
    "    \n",
    "    # Initialize\n",
    "    stack,result = [],[]\n",
    "    stack.append(root)\n",
    "    \n",
    "    \n",
    "    while stack:\n",
    "        node = stack.pop()\n",
    "        if node:\n",
    "            # Pre Order Traversal\n",
    "            \n",
    "            # Call\n",
    "            result.append(node.val)\n",
    "            \n",
    "            # Right\n",
    "            if node.right:\n",
    "                stack.append(node.right)\n",
    "            # Left\n",
    "            if node.left:\n",
    "                stack.append(node.left)\n",
    "        \n",
    "     \n",
    "    return result\n",
    "\n",
    "print(dfs_iterative(root))\n",
    "    "
   ]
  },
  {
   "cell_type": "code",
   "execution_count": 10,
   "metadata": {},
   "outputs": [
    {
     "name": "stdout",
     "output_type": "stream",
     "text": [
      "['D', 'B', 'E', 'A', 'F', 'C', 'G']\n"
     ]
    }
   ],
   "source": [
    "def dfs_iterative(root):\n",
    "    if root is None:\n",
    "        return []\n",
    "\n",
    "    stack, result = [], []\n",
    "    current = root\n",
    "\n",
    "    while current or stack:\n",
    "        # Traverse to the leftmost node\n",
    "        while current:\n",
    "            stack.append(current)\n",
    "            current = current.left\n",
    "\n",
    "        # Process the node at the top of the stack\n",
    "        current = stack.pop()\n",
    "        result.append(current.val)  # Assuming nodes have a 'val' attribute\n",
    "\n",
    "        # Move to the right subtree\n",
    "        current = current.right\n",
    "\n",
    "    return result\n",
    "\n",
    "\n",
    "\n",
    "print(dfs_iterative(root)) \n"
   ]
  },
  {
   "cell_type": "markdown",
   "metadata": {},
   "source": [
    "-------------------------------------------------------------------------"
   ]
  },
  {
   "cell_type": "markdown",
   "metadata": {},
   "source": [
    "# BFS\n"
   ]
  },
  {
   "cell_type": "markdown",
   "metadata": {},
   "source": [
    "###  BFS Iterative Traversal Template\n",
    "\n",
    "Hint: Queues"
   ]
  },
  {
   "cell_type": "code",
   "execution_count": 11,
   "metadata": {},
   "outputs": [
    {
     "name": "stdout",
     "output_type": "stream",
     "text": [
      "['A', 'B', 'C', 'D', 'E', 'F', 'G']\n"
     ]
    }
   ],
   "source": [
    "\n",
    "# stack implementation:\n",
    "#   queue = [] \n",
    "#   queue.append()\n",
    "#   queue.pop(0)\n",
    "#   queue[0] -> peek()\n",
    "\n",
    "def breadth_first_iterative(root):\n",
    "    if root is None:\n",
    "        return []\n",
    "    \n",
    "    queue , result = [], []    \n",
    "    queue.append(root)\n",
    "    \n",
    "    while queue:\n",
    "        node = queue.pop(0)\n",
    "        \n",
    "        if node:\n",
    "            queue.append(node.left)\n",
    "            queue.append(node.right)\n",
    "            result.append(node.val)\n",
    "        \n",
    "    return result\n",
    "\n",
    "print(breadth_first_iterative(root))\n",
    "\n",
    "\n",
    "\n"
   ]
  },
  {
   "cell_type": "markdown",
   "metadata": {},
   "source": [
    "-----------------------------------------\n",
    "\n"
   ]
  },
  {
   "cell_type": "markdown",
   "metadata": {},
   "source": [
    "# Properties:"
   ]
  },
  {
   "cell_type": "markdown",
   "metadata": {},
   "source": [
    "## 1. Check Same Tree"
   ]
  },
  {
   "cell_type": "code",
   "execution_count": 12,
   "metadata": {},
   "outputs": [],
   "source": [
    "def isSameTree(root1,root2):\n",
    "    # Both None\n",
    "    if not root1 and not root2:\n",
    "        return True\n",
    "    \n",
    "    # if Not equal\n",
    "    if not root1 or not root2:\n",
    "       return False\n",
    "   \n",
    "    if root1.val != root2.val:\n",
    "       return False\n",
    "    \n",
    "    # Recursive Call\n",
    "    return isSameTree(root1.left,root2.left) and isSameTree(root1.right,root2.right)\n",
    "    \n",
    "    \n",
    "    \n",
    "    "
   ]
  },
  {
   "cell_type": "markdown",
   "metadata": {},
   "source": [
    "## 2. Height, Depth, Diameter:"
   ]
  },
  {
   "cell_type": "markdown",
   "metadata": {},
   "source": [
    "### Height:\n",
    " Number of edges from longest path -> root to leaf\n",
    "\n",
    "### Depth:\n",
    " Number of edges from -> root to node"
   ]
  },
  {
   "cell_type": "code",
   "execution_count": 13,
   "metadata": {},
   "outputs": [],
   "source": [
    "from typing import Optional\n",
    "\n",
    "\n",
    "class TreeNode:\n",
    "    def __init__(self,val=0, left=None,right=None):\n",
    "        self.val = val\n",
    "        self.left = left\n",
    "        self.right = right\n",
    "\n",
    "\n",
    "# Height Of Tree:\n",
    "def findHeightRecursive(root: Optional[TreeNode]) -> int:\n",
    "    if not root:\n",
    "        return -1\n",
    "    \n",
    "    left = findHeightRecursive(root.left)\n",
    "    right = findHeightRecursive(root.right)\n",
    "\n",
    "    return 1+max(left,right)\n",
    "\n",
    "def findHeightIterative(root: Optional[TreeNode]) -> int:\n",
    "    pass\n",
    "\n",
    "def findDepthRecursive(root: Optional[TreeNode],target: int ) -> int:\n",
    "   if not root:\n",
    "       return -1\n",
    "   \n",
    "   if root.val == target:\n",
    "       return 0\n",
    "   \n",
    "   left = findDepthRecursive(root.left,target)\n",
    "   if left != -1:\n",
    "       return 1+ left\n",
    "   \n",
    "   right = findDepthRecursive(root.right,target)\n",
    "   if right != -1:\n",
    "       return 1 + right \n",
    "   \n",
    "   return -1\n",
    "\n",
    "def findDepthIterative(root: Optional[TreeNode],target: int ) -> int:\n",
    "    pass\n",
    "\n",
    "\n",
    "\n",
    "        \n"
   ]
  },
  {
   "cell_type": "markdown",
   "metadata": {},
   "source": [
    "-------------------------------------------------------------------------"
   ]
  },
  {
   "cell_type": "markdown",
   "metadata": {},
   "source": [
    "# Practice:\n"
   ]
  },
  {
   "cell_type": "markdown",
   "metadata": {},
   "source": [
    "94. Binary Tree Inorder Traversal"
   ]
  },
  {
   "cell_type": "code",
   "execution_count": 14,
   "metadata": {},
   "outputs": [],
   "source": [
    "# Definition for a binary tree node.\n",
    "from typing import List, Optional\n",
    "\n",
    "class TreeNode:\n",
    "    def __init__(self, val=0, left=None, right=None):\n",
    "        self.val = val\n",
    "        self.left = left\n",
    "        self.right = right\n",
    "        \n",
    "class Solution:\n",
    "    def inOrderTraversal(self, root: Optional[TreeNode]) -> List[int]:\n",
    "        output = []\n",
    "\n",
    "        if root == None:\n",
    "            return output\n",
    "        \n",
    "        def traverse(root, output):\n",
    "            if root != None:\n",
    "                traverse(root.left,output) # Left \n",
    "                output.append(root.val) # Node \n",
    "                traverse(root.right,output) # Right\n",
    "            \n",
    "            return output\n",
    "        \n",
    "        result = traverse(root,output)\n",
    "        return result\n"
   ]
  },
  {
   "cell_type": "markdown",
   "metadata": {},
   "source": [
    "104. Maximum Depth of Binary Tree"
   ]
  },
  {
   "cell_type": "code",
   "execution_count": 15,
   "metadata": {},
   "outputs": [],
   "source": [
    "# Definition for a binary tree node.\n",
    "class TreeNode:\n",
    "    def __init__(self, val=0, left=None, right=None):\n",
    "        self.val = val\n",
    "        self.left = left\n",
    "        self.right = right\n",
    "        \n",
    "\n",
    "\n",
    "class Solution:\n",
    "    #------ Recursion DFS -----------\n",
    "    def maxDepthRecursiveDFS(self, root: Optional[TreeNode]) -> int:\n",
    "        if root is None:\n",
    "            return 0\n",
    "        \n",
    "        # return  1 + max(dfs(left), dfs(right))\n",
    "        return 1 + max(self.maxDepthRecursiveDFS(root.left), self.maxDepthRecursiveDFS(root.right))\n",
    "    \n",
    "    \n",
    "    #------ Iterative DFS -----------\n",
    "    def maxDepthIterativeDFS(self, root: Optional[TreeNode]) -> int:\n",
    "        if root is None:\n",
    "            return 0\n",
    "        \n",
    "        stack = [[root, 1]]\n",
    "        result = 0\n",
    "\n",
    "        while stack:\n",
    "            node, depth = stack.pop()\n",
    "\n",
    "            if node:\n",
    "                result = max(result, depth)\n",
    "                stack.append([node.right, depth+ 1])\n",
    "                stack.append([node.left, depth+ 1])\n",
    "        \n",
    "        return result\n",
    "    \n",
    "    #------ Iterative BFS -----------\n",
    "    def maxDepthIterativeBFS(self, root: Optional[TreeNode]) -> int:\n",
    "        if root is None:\n",
    "            return 0\n",
    "        \n",
    "        queue = [[root,1]]\n",
    "        result = 0\n",
    "        \n",
    "        while queue:\n",
    "            node, depth = queue.pop(0)\n",
    "            \n",
    "            if node:\n",
    "                result = max(result, depth)\n",
    "                queue.append([node.left,depth+1])\n",
    "                queue.append([node.right,depth+1])\n",
    "        \n",
    "        return result\n",
    "         \n",
    "                \n",
    "                \n"
   ]
  },
  {
   "cell_type": "markdown",
   "metadata": {},
   "source": [
    "102. Binary Tree Level Order Traversal"
   ]
  },
  {
   "cell_type": "code",
   "execution_count": 16,
   "metadata": {},
   "outputs": [],
   "source": [
    "# Definition for a binary tree node.\n",
    "# class TreeNode:\n",
    "#     def __init__(self, val=0, left=None, right=None):\n",
    "#         self.val = val\n",
    "#         self.left = left\n",
    "#         self.right = right\n",
    "class Solution:\n",
    "    def levelOrder(self, root: Optional[TreeNode]) -> List[List[int]]:\n",
    "        if root is None:\n",
    "            return []\n",
    "\n",
    "        queue = [[root,0]] \n",
    "        result = {0:[]}\n",
    "        while queue:\n",
    "            node, lvl = queue.pop(0)\n",
    "\n",
    "            if node:\n",
    "                \n",
    "                if lvl not in result:\n",
    "                    result[lvl] = []\n",
    "                result[lvl].append(node.val)\n",
    "               \n",
    "                queue.append([node.left, lvl + 1])\n",
    "                queue.append([node.right, lvl + 1])\n",
    "                \n",
    "            \n",
    "        \n",
    "        return list(result.values())"
   ]
  },
  {
   "cell_type": "markdown",
   "metadata": {},
   "source": [
    "101. Symmetric Tree"
   ]
  },
  {
   "cell_type": "markdown",
   "metadata": {},
   "source": [
    "112. Path Sum"
   ]
  },
  {
   "cell_type": "markdown",
   "metadata": {},
   "source": [
    "103. Binary Tree Zigzag Level Order Traversal"
   ]
  },
  {
   "cell_type": "markdown",
   "metadata": {},
   "source": [
    " 105. Construct Binary Tree from Preorder and Inorder Traversal"
   ]
  },
  {
   "cell_type": "markdown",
   "metadata": {},
   "source": [
    "236. Lowest Common Ancestor of a Binary Tree"
   ]
  },
  {
   "cell_type": "markdown",
   "metadata": {},
   "source": [
    "12345. List by Levels Binary tree"
   ]
  },
  {
   "cell_type": "code",
   "execution_count": 17,
   "metadata": {},
   "outputs": [],
   "source": [
    "# Creation of Tree nodes:\n",
    "class TreeNode:\n",
    "    def __init__(self, value):\n",
    "        self.val = value\n",
    "        self.left = None\n",
    "        self.right = None\n",
    "    \n",
    "\n",
    "# Binary Tree\n",
    "root = TreeNode(\"A\")\n",
    "root.left = TreeNode(\"B\")\n",
    "root.right = TreeNode(\"E\")\n",
    "root.left.left = TreeNode(\"C\")\n",
    "root.left.right = TreeNode(\"D\")\n",
    "root.right.left = TreeNode(\"F\")\n",
    "root.right.right = TreeNode(\"G\")\n",
    "\n",
    "\n",
    "\n",
    "\n",
    "\n",
    "\n",
    "\n",
    "\n",
    "\n",
    "\n",
    "    \n",
    "    \n",
    "\n",
    " \n",
    "    \n",
    "        \n",
    "\n"
   ]
  }
 ],
 "metadata": {
  "kernelspec": {
   "display_name": "Python 3",
   "language": "python",
   "name": "python3"
  },
  "language_info": {
   "codemirror_mode": {
    "name": "ipython",
    "version": 3
   },
   "file_extension": ".py",
   "mimetype": "text/x-python",
   "name": "python",
   "nbconvert_exporter": "python",
   "pygments_lexer": "ipython3",
   "version": "3.12.3"
  }
 },
 "nbformat": 4,
 "nbformat_minor": 2
}

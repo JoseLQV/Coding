{
 "cells": [
  {
   "cell_type": "markdown",
   "id": "f3670c39",
   "metadata": {},
   "source": [
    "# Quick Sort\n",
    "\n",
    "### Pivoting \n",
    "\n",
    "--------------------------"
   ]
  },
  {
   "cell_type": "markdown",
   "id": "f0b14427",
   "metadata": {},
   "source": [
    "Quick Sort: In place     \n",
    "\n",
    "Pivot will be last element\n",
    "\n",
    " Steps:\n",
    "\n",
    " - Step 1: Def sort\n",
    " - Call Partition\n",
    " - Left Right Call\n",
    " - \n",
    " - Step 2: Left and Right Call \n",
    " - Def Partition\n",
    " - Choose Pivot\n",
    " - Traverse and swap\n",
    " - Swap Left Right\n",
    " - Return Left index\n",
    "  \n",
    "  \n",
    "\n",
    "\n",
    "\n",
    "\n"
   ]
  },
  {
   "cell_type": "code",
   "execution_count": 3,
   "id": "f6fda0a3",
   "metadata": {},
   "outputs": [],
   "source": [
    "def quickSort(arr):\n",
    "    \n",
    "    # Def sort\n",
    "    def sort(left_index,right_index):\n",
    "        # Base Case\n",
    "        if left_index >= right_index:\n",
    "            return \n",
    "        \n",
    "        # Call Partition \n",
    "        part = partition(left_index,right_index)\n",
    "        \n",
    "        # Left Right Call\n",
    "        sort(left_index , part-1)\n",
    "        sort(part+1 , right_index)\n",
    "    \n",
    "    \n",
    "    # Def partition\n",
    "    def partition(left_index,right_index):\n",
    "        # Choose Pivot\n",
    "        pivot =  arr[right_index]     \n",
    "        \n",
    "         # Traverse swap\n",
    "        for curr_index in range(left_index, right_index ):\n",
    "            if arr[curr_index] < pivot :\n",
    "                \n",
    "                arr[left_index], arr[curr_index] = arr[curr_index] , arr[left_index]\n",
    "                left_index += 1\n",
    "        \n",
    "        \n",
    "        # Swap Left Right\n",
    "        arr[left_index] , arr[right_index] = arr[right_index] , arr[left_index] \n",
    "        \n",
    "        # Return Left\n",
    "        return left_index\n",
    "        \n",
    "        \n",
    "    \n",
    "    # Call sort\n",
    "    sort(0,len(arr)- 1)\n",
    "    return arr\n",
    "        \n",
    "            \n",
    "                \n",
    "            \n",
    "                \n",
    "                \n",
    "                \n",
    "        \n",
    "    \n",
    "   "
   ]
  },
  {
   "cell_type": "code",
   "execution_count": 4,
   "id": "34e6e107",
   "metadata": {},
   "outputs": [
    {
     "name": "stdout",
     "output_type": "stream",
     "text": [
      "[1, 2, 3, 4, 5, 6]\n"
     ]
    }
   ],
   "source": [
    "print(quickSort([4, 2, 6, 1, 5, 3]))\n",
    "# Output: [1, 2, 3, 4, 5, 6]\n"
   ]
  },
  {
   "cell_type": "markdown",
   "id": "ab12bbda",
   "metadata": {},
   "source": [
    "Quick Sort: Not in Place\n"
   ]
  },
  {
   "cell_type": "code",
   "execution_count": null,
   "id": "24ac2d36",
   "metadata": {},
   "outputs": [],
   "source": [
    "  "
   ]
  }
 ],
 "metadata": {
  "kernelspec": {
   "display_name": "Python 3",
   "language": "python",
   "name": "python3"
  },
  "language_info": {
   "codemirror_mode": {
    "name": "ipython",
    "version": 3
   },
   "file_extension": ".py",
   "mimetype": "text/x-python",
   "name": "python",
   "nbconvert_exporter": "python",
   "pygments_lexer": "ipython3",
   "version": "3.11.7"
  }
 },
 "nbformat": 4,
 "nbformat_minor": 5
}

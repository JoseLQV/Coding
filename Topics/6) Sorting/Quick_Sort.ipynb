{
 "cells": [
  {
   "cell_type": "markdown",
   "id": "f3670c39",
   "metadata": {},
   "source": [
    "# Quick Sort\n",
    "\n",
    "### Pivoting \n",
    "\n",
    "--------------------------"
   ]
  },
  {
   "cell_type": "markdown",
   "id": "f0b14427",
   "metadata": {},
   "source": [
    "Quick Sort: In place ( Right Side )\n",
    "\n",
    "Pivot will be last element\n",
    "\n",
    " Steps:\n",
    "\n",
    "Step 1: Def divide\n",
    "Call pivoting\n",
    "Left Right Call\n",
    "\n",
    "Def pivoting\n",
    "Choose Pivot (Left or Right)\n",
    "Traverse and swap\n",
    "Swap Left Right\n",
    "Return Left index\n",
    "  \n",
    "  \n",
    "\n",
    "\n",
    "\n",
    "\n"
   ]
  },
  {
   "cell_type": "code",
   "execution_count": 32,
   "id": "f6fda0a3",
   "metadata": {},
   "outputs": [],
   "source": [
    "def quickSort(arr):\n",
    "    \n",
    "    # Def sort\n",
    "    def divide(left_index,right_index):\n",
    "        # Base Case\n",
    "        if left_index >= right_index:\n",
    "            return \n",
    "        \n",
    "        # Call Partition \n",
    "        part = pivoting(left_index,right_index)\n",
    "        \n",
    "        # Left Right Call\n",
    "        divide(left_index , part-1)\n",
    "        divide(part+1 , right_index)\n",
    "    \n",
    "    \n",
    "    # Def pivoting\n",
    "    def pivoting(left_index,right_index):\n",
    "        # Choose Pivot\n",
    "        pivot =  arr[right_index]     \n",
    "        swap_index = left_index\n",
    "         # Traverse swap\n",
    "        for curr_index in range(left_index, right_index ):\n",
    "            if arr[curr_index] < pivot :\n",
    "                arr[swap_index], arr[curr_index] = arr[curr_index] , arr[swap_index]\n",
    "                swap_index += 1\n",
    "        \n",
    "        \n",
    "        # Swap Left Right\n",
    "        arr[swap_index] , arr[right_index] = arr[right_index] , arr[swap_index] \n",
    "        \n",
    "        # Return Left\n",
    "        return swap_index\n",
    "        \n",
    "        \n",
    "    \n",
    "    # Call sort\n",
    "    divide(0,len(arr)- 1)\n",
    "    return arr\n",
    "        \n",
    "                \n",
    "        \n",
    "    \n",
    "   "
   ]
  },
  {
   "cell_type": "code",
   "execution_count": 33,
   "id": "34e6e107",
   "metadata": {},
   "outputs": [
    {
     "name": "stdout",
     "output_type": "stream",
     "text": [
      "[1, 2, 3, 4, 5, 6]\n"
     ]
    }
   ],
   "source": [
    "print(quickSort([4, 2, 6, 1, 5, 3]))\n",
    "# Output: [1, 2, 3, 4, 5, 6]\n"
   ]
  },
  {
   "cell_type": "markdown",
   "id": "c9a5785d",
   "metadata": {},
   "source": [
    "Quick Sort In Place : (Left Side)"
   ]
  },
  {
   "cell_type": "code",
   "execution_count": 34,
   "id": "24ac2d36",
   "metadata": {},
   "outputs": [],
   "source": [
    "def quickSort(arr):\n",
    "    # Def divide\n",
    "    def divide(left , right):\n",
    "        # Base Case\n",
    "        if left >= right :\n",
    "            return\n",
    "        \n",
    "        # Call pivoting\n",
    "        piv = pivoting(left,right)\n",
    "        \n",
    "        # Left Right Call\n",
    "        divide(left, piv-1)\n",
    "        divide(piv+1, right)\n",
    "           \n",
    "        \n",
    "    # Def pivoting\n",
    "    def pivoting(left,right):\n",
    "        # Choose pivot\n",
    "        pivot = arr[left]\n",
    "        swap_index = left + 1 # so i dont add the pivot \n",
    "        \n",
    "        # Traverse\n",
    "        for curr in range(left+1,right+1):\n",
    "            # Swap\n",
    "            if arr[curr] < pivot:\n",
    "                arr[curr] , arr[swap_index] = arr[swap_index], arr[curr]\n",
    "                swap_index += 1\n",
    "            \n",
    "        # Last swap\n",
    "        arr[left], arr[swap_index-1] = arr[swap_index-1], arr[left]\n",
    "        \n",
    "        \n",
    "        return swap_index - 1\n",
    "            \n",
    "           \n",
    "        \n",
    "    divide(0,len(arr)-1)\n",
    "    return arr\n",
    "    \n",
    "    \n",
    "    \n",
    "    "
   ]
  },
  {
   "cell_type": "code",
   "execution_count": 35,
   "id": "2af76344",
   "metadata": {},
   "outputs": [
    {
     "name": "stdout",
     "output_type": "stream",
     "text": [
      "[1, 2, 3, 4, 5, 6]\n"
     ]
    }
   ],
   "source": [
    "print(quickSort([4, 2, 6, 1, 5, 3]))\n",
    "# Output: [1, 2, 3, 4, 5, 6]\n"
   ]
  },
  {
   "cell_type": "markdown",
   "id": "9ca8f331",
   "metadata": {},
   "source": [
    "Quick Sort: Quick Select"
   ]
  },
  {
   "cell_type": "code",
   "execution_count": 36,
   "id": "7cc5abcd",
   "metadata": {},
   "outputs": [],
   "source": [
    "def quickSelect(arr, k):\n",
    "    # Def divide\n",
    "    def divide(left, right):\n",
    "        # Base Case\n",
    "        if left >= right:\n",
    "            return arr[left]\n",
    "        \n",
    "        # Call Pivoting\n",
    "        piv = pivoting(left, right)\n",
    "        \n",
    "        # Left Right \n",
    "        if piv == k:\n",
    "            return arr[piv]\n",
    "        elif piv < k:\n",
    "            return divide(piv+1, right)\n",
    "        else:\n",
    "            return divide(left, piv-1)\n",
    "    \n",
    "    # Def pivoting\n",
    "    def pivoting(left, right):\n",
    "        # Choose Pivot\n",
    "        pivot = arr[right]\n",
    "        swap_index = left\n",
    "        \n",
    "        # Traverse\n",
    "        for curr in  range(left, right):\n",
    "            # swap\n",
    "            if arr[curr] < pivot:\n",
    "                arr[curr], arr[swap_index] = arr[swap_index], arr[curr]\n",
    "                swap_index += 1\n",
    "            \n",
    "        # Last Swap\n",
    "        arr[swap_index] , arr[right] = arr[right], arr[swap_index]\n",
    "        \n",
    "        return swap_index\n",
    "    \n",
    "    return divide(0,len(arr)- 1)\n",
    "    "
   ]
  },
  {
   "cell_type": "code",
   "execution_count": 37,
   "id": "13895d17",
   "metadata": {},
   "outputs": [
    {
     "name": "stdout",
     "output_type": "stream",
     "text": [
      "3\n"
     ]
    }
   ],
   "source": [
    "print(quickSelect([4, 2, 6, 1, 5, 3], 2))\n",
    "# Output: [1, 2, 3, 4, 5, 6]\n"
   ]
  },
  {
   "cell_type": "markdown",
   "id": "1244b906",
   "metadata": {},
   "source": [
    "Quick Sort : Quick Select + Random Pivot"
   ]
  },
  {
   "cell_type": "code",
   "execution_count": 38,
   "id": "e6216aac",
   "metadata": {},
   "outputs": [],
   "source": [
    "\"\"\"\n",
    "    # Quick Sort\n",
    "        def divide\n",
    "            base case\n",
    "            call partition\n",
    "            left right call\n",
    "            \n",
    "        def partition\n",
    "            random pivot \n",
    "            compare logic\n",
    "            swap\n",
    "            last swap\n",
    "            return index\n",
    "\"\"\"\n",
    "import random\n",
    "\n",
    "def quickSorting(nums, target):\n",
    "    k = len(nums) - target\n",
    "    def divide(left,right):\n",
    "        # Base Case\n",
    "        if left >= right:\n",
    "            return nums[left]\n",
    "        \n",
    "        # Call partition\n",
    "        piv = partition(left , right)\n",
    "        \n",
    "        # Left Right\n",
    "        if piv == k:\n",
    "            return nums[piv]\n",
    "        elif piv < k :\n",
    "            return  divide(piv+1, right)\n",
    "        else:\n",
    "            return divide(left,piv-1)\n",
    "            \n",
    "    \n",
    "    def partition(left,right):\n",
    "        # Random pivot:\n",
    "        random_index = random.randint(left,right)\n",
    "        nums[random_index] , nums[right] = nums[right], nums[random_index]\n",
    "        pivot = nums[right]\n",
    "        swap_index = left\n",
    "        \n",
    "        \n",
    "        # Compare Logic\n",
    "        for curr in range(left,right):\n",
    "            if nums[curr] < pivot:\n",
    "                # swap\n",
    "                nums[swap_index] , nums[curr] = nums[curr] , nums[swap_index]\n",
    "                swap_index += 1\n",
    "        \n",
    "        # last swap\n",
    "        nums[swap_index] , nums[right] = nums[right] , nums[swap_index]\n",
    "        return swap_index\n",
    "    \n",
    "    return divide(0,len(nums) - 1)"
   ]
  },
  {
   "cell_type": "code",
   "execution_count": 39,
   "id": "e5c84cdd",
   "metadata": {},
   "outputs": [
    {
     "name": "stdout",
     "output_type": "stream",
     "text": [
      "5\n"
     ]
    }
   ],
   "source": [
    "print(quickSorting([4, 2, 6, 1, 5, 3], 2))\n",
    "# Output: [1, 2, 3, 4, 5, 6]\n"
   ]
  }
 ],
 "metadata": {
  "kernelspec": {
   "display_name": "Python 3",
   "language": "python",
   "name": "python3"
  },
  "language_info": {
   "codemirror_mode": {
    "name": "ipython",
    "version": 3
   },
   "file_extension": ".py",
   "mimetype": "text/x-python",
   "name": "python",
   "nbconvert_exporter": "python",
   "pygments_lexer": "ipython3",
   "version": "3.11.7"
  }
 },
 "nbformat": 4,
 "nbformat_minor": 5
}

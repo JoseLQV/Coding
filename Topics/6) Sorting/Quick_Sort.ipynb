{
 "cells": [
  {
   "cell_type": "markdown",
   "id": "f3670c39",
   "metadata": {},
   "source": [
    "# Quick Sort\n",
    "\n",
    "### Pivoting \n",
    "\n",
    "--------------------------"
   ]
  },
  {
   "cell_type": "markdown",
   "id": "f0b14427",
   "metadata": {},
   "source": [
    "Quick Sort: In place ( Right Side )\n",
    "\n",
    "Pivot will be last element\n",
    "\n",
    " Steps:\n",
    "\n",
    " - Step 1: Def divide\n",
    " - Call pivoting\n",
    " - Left Right Call\n",
    " - \n",
    " - Step 2: Left and Right Call \n",
    " - Def pivoting\n",
    " - Choose Pivot\n",
    " - Traverse and swap\n",
    " - Swap Left Right\n",
    " - Return Left index\n",
    "  \n",
    "  \n",
    "\n",
    "\n",
    "\n",
    "\n"
   ]
  },
  {
   "cell_type": "code",
   "execution_count": 5,
   "id": "f6fda0a3",
   "metadata": {},
   "outputs": [],
   "source": [
    "def quickSort(arr):\n",
    "    \n",
    "    # Def sort\n",
    "    def divide(left_index,right_index):\n",
    "        # Base Case\n",
    "        if left_index >= right_index:\n",
    "            return \n",
    "        \n",
    "        # Call Partition \n",
    "        part = pivoting(left_index,right_index)\n",
    "        \n",
    "        # Left Right Call\n",
    "        divide(left_index , part-1)\n",
    "        divide(part+1 , right_index)\n",
    "    \n",
    "    \n",
    "    # Def pivoting\n",
    "    def pivoting(left_index,right_index):\n",
    "        # Choose Pivot\n",
    "        pivot =  arr[right_index]     \n",
    "        swap_index = left_index\n",
    "         # Traverse swap\n",
    "        for curr_index in range(left_index, right_index ):\n",
    "            if arr[curr_index] < pivot :\n",
    "                arr[swap_index], arr[curr_index] = arr[curr_index] , arr[swap_index]\n",
    "                swap_index += 1\n",
    "        \n",
    "        \n",
    "        # Swap Left Right\n",
    "        arr[swap_index] , arr[right_index] = arr[right_index] , arr[swap_index] \n",
    "        \n",
    "        # Return Left\n",
    "        return swap_index\n",
    "        \n",
    "        \n",
    "    \n",
    "    # Call sort\n",
    "    divide(0,len(arr)- 1)\n",
    "    return arr\n",
    "        \n",
    "                \n",
    "        \n",
    "    \n",
    "   "
   ]
  },
  {
   "cell_type": "code",
   "execution_count": 6,
   "id": "34e6e107",
   "metadata": {},
   "outputs": [
    {
     "name": "stdout",
     "output_type": "stream",
     "text": [
      "[1, 2, 3, 4, 5, 6]\n"
     ]
    }
   ],
   "source": [
    "print(quickSort([4, 2, 6, 1, 5, 3]))\n",
    "# Output: [1, 2, 3, 4, 5, 6]\n"
   ]
  },
  {
   "cell_type": "markdown",
   "id": "c9a5785d",
   "metadata": {},
   "source": [
    "Quick Sort In Place : (Left Side)"
   ]
  },
  {
   "cell_type": "code",
   "execution_count": 7,
   "id": "24ac2d36",
   "metadata": {},
   "outputs": [],
   "source": [
    "def quickSort(arr):\n",
    "    # Def divide\n",
    "    def divide(left , right):\n",
    "        # Base Case\n",
    "        if left >= right :\n",
    "            return\n",
    "        \n",
    "        # Call pivoting\n",
    "        piv = pivoting(left,right)\n",
    "        \n",
    "        # Left Right Call\n",
    "        divide(left, piv-1)\n",
    "        divide(piv+1, right)\n",
    "           \n",
    "        \n",
    "    # Def pivoting\n",
    "    def pivoting(left,right):\n",
    "        # Choose pivot\n",
    "        pivot = arr[left]\n",
    "        swap_index = left + 1 # so i dont add the pivot \n",
    "        \n",
    "        \n",
    "        # Traverse\n",
    "        for curr in range(left+1,right+1):\n",
    "            # Swap\n",
    "            if arr[curr] < pivot:\n",
    "                arr[curr] , arr[swap_index] = arr[swap_index], arr[curr]\n",
    "                swap_index += 1\n",
    "            \n",
    "        # Last swap\n",
    "        arr[left], arr[swap_index-1] = arr[swap_index-1], arr[left]\n",
    "        \n",
    "        \n",
    "        return swap_index - 1\n",
    "            \n",
    "           \n",
    "        \n",
    "    divide(0,len(arr)-1)\n",
    "    return arr\n",
    "    \n",
    "    \n",
    "    \n",
    "    "
   ]
  },
  {
   "cell_type": "code",
   "execution_count": 8,
   "id": "2af76344",
   "metadata": {},
   "outputs": [
    {
     "name": "stdout",
     "output_type": "stream",
     "text": [
      "[1, 2, 3, 4, 5, 6]\n"
     ]
    }
   ],
   "source": [
    "print(quickSort([4, 2, 6, 1, 5, 3]))\n",
    "# Output: [1, 2, 3, 4, 5, 6]\n"
   ]
  }
 ],
 "metadata": {
  "kernelspec": {
   "display_name": "Python 3",
   "language": "python",
   "name": "python3"
  },
  "language_info": {
   "codemirror_mode": {
    "name": "ipython",
    "version": 3
   },
   "file_extension": ".py",
   "mimetype": "text/x-python",
   "name": "python",
   "nbconvert_exporter": "python",
   "pygments_lexer": "ipython3",
   "version": "3.11.7"
  }
 },
 "nbformat": 4,
 "nbformat_minor": 5
}

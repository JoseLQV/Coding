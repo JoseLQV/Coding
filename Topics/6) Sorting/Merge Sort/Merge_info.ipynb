{
 "cells": [
  {
   "cell_type": "markdown",
   "id": "b231534c",
   "metadata": {},
   "source": [
    "# Merge Sort\n",
    "\n",
    "\n",
    "### Divide and Conquer\n",
    "\n",
    "----------------------------------------------"
   ]
  },
  {
   "cell_type": "markdown",
   "id": "2fc30b6c",
   "metadata": {},
   "source": [
    "Recursive Merge Sort Steps:\n",
    "\n",
    " - Step 1 :  Base case array <= 1\n",
    " - Step 2 :  Divide\n",
    " - Step 3 :  Left and Right \n",
    " - Step 4 :  Call Conquer  \n",
    " - Step 5 :  Merge\n",
    " - Step 6 :  Leftovers\n",
    "\n",
    "if linked list for step 2:\n",
    "- def getMid() -> slow, fast \n"
   ]
  },
  {
   "cell_type": "markdown",
   "id": "be53505b",
   "metadata": {},
   "source": [
    "Merge Sort Recursion : Array "
   ]
  },
  {
   "cell_type": "code",
   "execution_count": 1,
   "id": "63ebc163",
   "metadata": {},
   "outputs": [],
   "source": [
    "# Merge Sort Recursion\n",
    "\n",
    "def divide(arr) : \n",
    "    \n",
    "    # Base Case \n",
    "    if len(arr) <= 1 : \n",
    "        return arr\n",
    "    \n",
    "    # Divide \n",
    "    mid = len(arr) // 2  \n",
    "    \n",
    "    # Left and Right Call\n",
    "    left = divide(arr[:mid])\n",
    "    right = divide(arr[mid:])\n",
    "    \n",
    "    # Call Conquer\n",
    "    return conquer(left,right)\n",
    "\n",
    "def conquer(left,right) :\n",
    "    \n",
    "    sorted_array = []\n",
    "    i,j = 0,0\n",
    "    \n",
    "    # Conquer Logic \n",
    "    while i < len(left) and j < len(right):\n",
    "        if left[i] <= right[j]:\n",
    "            sorted_array.append(left[i])\n",
    "            i += 1\n",
    "        else:\n",
    "            sorted_array.append(right[j])\n",
    "            j += 1\n",
    "    \n",
    "    # Add remaining stuff\n",
    "    sorted_array.extend(left[i:])\n",
    "    sorted_array.extend(right[j:])\n",
    "    \n",
    "    return sorted_array\n",
    "    \n",
    "            "
   ]
  },
  {
   "cell_type": "code",
   "execution_count": 2,
   "id": "5ef206ef",
   "metadata": {},
   "outputs": [
    {
     "name": "stdout",
     "output_type": "stream",
     "text": [
      "[1, 5, 13, 43, 62]\n"
     ]
    }
   ],
   "source": [
    "\n",
    "my_array = [1, 62, 13, 43, 5]\n",
    "result = divide(my_array)\n",
    "print(result)"
   ]
  },
  {
   "cell_type": "markdown",
   "id": "37a35920",
   "metadata": {},
   "source": [
    "Merge Sort Recursion : Linked List\n"
   ]
  },
  {
   "cell_type": "code",
   "execution_count": 3,
   "id": "9f984b3e",
   "metadata": {},
   "outputs": [],
   "source": [
    "class ListNode:\n",
    "    def __init__(self, val=0, next=None):\n",
    "        self.val = val\n",
    "        self.next = next\n",
    "        \n",
    "    def printList(self,head):\n",
    "        while head:\n",
    "            print(head.val, end=\" -> \")\n",
    "            head = head.next\n",
    "        print(\"None\")\n",
    "\n",
    "class MergeSort:\n",
    "    def getMid(self, head):\n",
    "        slow = head\n",
    "        fast = head.next\n",
    "        while fast and fast.next:\n",
    "            slow = slow.next\n",
    "            fast = fast.next.next\n",
    "        return slow\n",
    "\n",
    "    def divide(self, head):\n",
    "        # Base case\n",
    "        if head is None or head.next is None:\n",
    "            return head\n",
    "\n",
    "        # Divide\n",
    "        mid = self.getMid(head)\n",
    "        left = head\n",
    "        right = mid.next\n",
    "        mid.next = None\n",
    "\n",
    "        # Recursive sort\n",
    "        left = self.divide(left)\n",
    "        right = self.divide(right)\n",
    "\n",
    "        # Merge\n",
    "        return self.conquer(left, right)\n",
    "\n",
    "    def conquer(self, left, right):\n",
    "        start = ListNode(0)\n",
    "        curr = start\n",
    "       \n",
    "       # Merge\n",
    "        while left and right:\n",
    "            if left.val <= right.val :\n",
    "                curr.next = left\n",
    "                left = left.next\n",
    "                curr = curr.next\n",
    "            else:\n",
    "                curr.next = right\n",
    "                right = right.next\n",
    "                curr = curr.next\n",
    "\n",
    "        # Left overs\n",
    "        while left:\n",
    "            curr.next = left\n",
    "            left = left.next\n",
    "            curr = curr.next\n",
    "        while right:\n",
    "            curr.next = right\n",
    "            right = right.next\n",
    "            curr = curr.next\n",
    "        \n",
    "        \n",
    "        return start.next\n",
    "    \n",
    "    "
   ]
  },
  {
   "cell_type": "code",
   "execution_count": 4,
   "id": "5f2c7d3e",
   "metadata": {},
   "outputs": [
    {
     "name": "stdout",
     "output_type": "stream",
     "text": [
      "4 -> 2 -> 1 -> 3 -> None\n",
      "1 -> 2 -> 3 -> 4 -> None\n"
     ]
    }
   ],
   "source": [
    "\n",
    "\n",
    "head = ListNode(4, ListNode(2, ListNode(1, ListNode(3))))\n",
    "ms = MergeSort()\n",
    "ln = ListNode()\n",
    "ln.printList(head)\n",
    "sorted_head = ms.divide(head)\n",
    "ln.printList(sorted_head)\n"
   ]
  },
  {
   "cell_type": "markdown",
   "id": "1d2428c7",
   "metadata": {},
   "source": [
    "Merge Sort Recursion : Array and Tracking "
   ]
  },
  {
   "cell_type": "code",
   "execution_count": 5,
   "id": "a964b9d3",
   "metadata": {},
   "outputs": [],
   "source": [
    "def mergeSort_tracking(arr):\n",
    "    # Initialize\n",
    "    result = [0] * len(arr)\n",
    "    \n",
    "    # (Value, Index)\n",
    "    enum = []\n",
    "    for index, value in enumerate(arr):\n",
    "        enum.append((index,value))\n",
    "        \n",
    "    def divide(arr):\n",
    "        # Base case\n",
    "        if len(arr) <= 1:\n",
    "            return arr\n",
    "        # Divide\n",
    "        mid = len(arr)//2\n",
    "        \n",
    "        # Left Right call\n",
    "        left = divide(arr[:mid])\n",
    "        right = divide(arr[mid:])\n",
    "        \n",
    "        # Call Conquer\n",
    "        return conquer(left, right , result)\n",
    "    \n",
    "    def conquer(left, right):\n",
    "        sorted_array = []\n",
    "        i, j = 0, 0\n",
    "\n",
    "        while i < len(left) and j < len(right):\n",
    "            if left[i][1] <= right[j][1]:\n",
    "                index, value = left[i]\n",
    "                smaller_count = j\n",
    "                result[index] += smaller_count\n",
    "                sorted_array.append((index, value))\n",
    "                i += 1\n",
    "            else:\n",
    "                sorted_array.append(right[j])\n",
    "                j += 1\n",
    "\n",
    "        while i < len(left):\n",
    "            index, value = left[i]\n",
    "            result[index] += j  # all remaining j elements are still smaller\n",
    "            sorted_array.append((index, value))\n",
    "            i += 1\n",
    "\n",
    "        while j < len(right):\n",
    "            sorted_array.append(right[j])\n",
    "            j += 1\n",
    "\n",
    "        return sorted_array\n",
    "\n",
    "                \n",
    "        \n",
    "            \n",
    "    \n",
    "    \n",
    "    \n",
    "    \n",
    "    \n",
    "    \n",
    "    "
   ]
  },
  {
   "cell_type": "markdown",
   "id": "18722e80",
   "metadata": {},
   "source": [
    "Merge Sort Leetcode:\n",
    "\n",
    "- 912   @\n",
    "- 21    @\n",
    "- 148   @\n",
    "- 315\n",
    "- 493\n",
    "- 327\n",
    "- 378\n",
    "- 23"
   ]
  }
 ],
 "metadata": {
  "kernelspec": {
   "display_name": "Python 3",
   "language": "python",
   "name": "python3"
  },
  "language_info": {
   "codemirror_mode": {
    "name": "ipython",
    "version": 3
   },
   "file_extension": ".py",
   "mimetype": "text/x-python",
   "name": "python",
   "nbconvert_exporter": "python",
   "pygments_lexer": "ipython3",
   "version": "3.11.7"
  }
 },
 "nbformat": 4,
 "nbformat_minor": 5
}

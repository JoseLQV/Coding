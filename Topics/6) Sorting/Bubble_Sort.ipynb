{
 "cells": [
  {
   "cell_type": "markdown",
   "id": "edddbd7e",
   "metadata": {},
   "source": [
    "# Bubble Sort"
   ]
  },
  {
   "cell_type": "markdown",
   "id": "e26a1bb3",
   "metadata": {},
   "source": [
    "### Swapping \n",
    "\n",
    "-----------------------------------------------------------------\n",
    "\n"
   ]
  },
  {
   "cell_type": "markdown",
   "id": "d9e4dcab",
   "metadata": {},
   "source": [
    "#### Standard Bubble Sort ( Ascending Order )\n",
    "\n",
    "- Step 1: Traverse the Array pointer 1\n",
    "- Step 2: Traverse with the second pointer 2\n",
    "- Step 3: Compare swap if bigger\n"
   ]
  },
  {
   "cell_type": "code",
   "execution_count": null,
   "id": "b08a92ec",
   "metadata": {},
   "outputs": [],
   "source": [
    "class Solution:\n",
    "    def bubbleSort_asc(self, nums):\n",
    "        \n",
    "        for i in range(len(nums)):\n",
    "            for j in range(len(nums)-i-1):\n",
    "                if nums[j] > nums[j +1]:\n",
    "                    nums[j], nums[j+1] = nums[j+1], nums[j]\n",
    "        \n",
    "        return nums\n"
   ]
  }
 ],
 "metadata": {
  "kernelspec": {
   "display_name": "Python 3",
   "language": "python",
   "name": "python3"
  },
  "language_info": {
   "name": "python",
   "version": "3.11.7"
  }
 },
 "nbformat": 4,
 "nbformat_minor": 5
}

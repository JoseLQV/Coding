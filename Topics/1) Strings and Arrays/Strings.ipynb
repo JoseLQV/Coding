{
 "cells": [
  {
   "cell_type": "markdown",
   "metadata": {},
   "source": [
    "# String and Arrays \n"
   ]
  },
  {
   "cell_type": "markdown",
   "metadata": {},
   "source": [
    "### String Fundamental"
   ]
  },
  {
   "cell_type": "markdown",
   "metadata": {},
   "source": [
    "#### 1. Length & Access\n",
    "- **`len()`**: Returns the length of a string.\n",
    "- **Indexing (`s[i]`)**: Accesses a character at index `i`.\n",
    "- **Slicing (`s[start:end]`)**: Extracts a substring from `start` to `end-1`.\n"
   ]
  },
  {
   "cell_type": "code",
   "execution_count": 26,
   "metadata": {},
   "outputs": [
    {
     "name": "stdout",
     "output_type": "stream",
     "text": [
      "1) abcde\n",
      "2) vwxyz\n",
      "3) acegikmoqsuwy\n",
      "4) zyxwvutsrqponmlkjihgfedcba\n",
      "5) ijklmnopqr\n",
      "6) bcdefghijklmnopqrstuvwxy\n"
     ]
    }
   ],
   "source": [
    "alphabet = \"abcdefghijklmnopqrstuvwxyz\"\n",
    "length = len(alphabet)//2\n",
    "\n",
    "print (\"1) \"+ alphabet[:5]) # Extract the first 5 characters\n",
    "print (\"2) \"+ alphabet[-5:]) # Extract the last 5 characters\n",
    "print (\"3) \"+ alphabet[0:-1:2]) # Extract every second character starting from the beginning  # [::2]\n",
    "print (\"4) \"+ alphabet[::-1]) # Reverse the string\n",
    "print (\"5) \"+ alphabet[length-5:length+5]) # Extract the middle 10 characters from the string\n",
    "print (\"6) \"+ alphabet[1:-1]) # Extract the string without the first and last character"
   ]
  },
  {
   "cell_type": "markdown",
   "metadata": {},
   "source": [
    "### Case Conversion\n",
    "- **`s.lower()`**: Converts all characters of `s` to lowercase.\n",
    "- **`s.upper()`**: Converts all characters of `s` to uppercase.\n",
    "- **`s.capitalize()`**: Converts the first character of `s` to uppercase.\n",
    "- **`s.title()`**: Converts the first character of each word to uppercase.\n",
    "- **`s.swapcase()`**: Swaps the case of each character in `s`."
   ]
  },
  {
   "cell_type": "code",
   "execution_count": 27,
   "metadata": {},
   "outputs": [
    {
     "name": "stdout",
     "output_type": "stream",
     "text": [
      "Lowercase: hello world from python \n",
      "\n",
      "Uppercase: HELLO WORLD FROM PYTHON \n",
      "\n",
      "Capitalize: Hello world from python \n",
      "\n",
      "Title: Hello World From Python \n",
      "\n",
      "Swapcase: HELLO world FROM python \n",
      "\n"
     ]
    }
   ],
   "source": [
    "s = \"hello WORLD from PYTHON\"\n",
    "\n",
    "# s.lower()\n",
    "print(\"Lowercase:\", s.lower(), \"\\n\")\n",
    "# s.upper()\n",
    "print(\"Uppercase:\", s.upper(), \"\\n\")\n",
    "# s.capitalize()\n",
    "print(\"Capitalize:\", s.capitalize(), \"\\n\")\n",
    "# s.title()\n",
    "print(\"Title:\", s.title(), \"\\n\")\n",
    "# s.swapcase()\n",
    "print(\"Swapcase:\", s.swapcase(), \"\\n\")\n"
   ]
  },
  {
   "cell_type": "markdown",
   "metadata": {},
   "source": [
    "### Searching & Substring\n",
    "- **`s.find(sub)`**: Returns the index of the first occurrence of `sub` in `s`, or `-1` if not found.\n",
    "- **`s.index(sub)`**: Similar to `find`, but raises an error if `sub` is not found.\n",
    "- **`s.rfind(sub)`**: Returns the index of the last occurrence of `sub` in `s`.\n",
    "- **`s.startswith(prefix)`**: Returns `True` if `s` starts with `prefix`.\n",
    "- **`s.endswith(suffix)`**: Returns `True` if `s` ends with `suffix`.\n",
    "- **`s.count(sub)`**: Returns the number of occurrences of `sub` in `s`."
   ]
  },
  {
   "cell_type": "code",
   "execution_count": 43,
   "metadata": {},
   "outputs": [
    {
     "name": "stdout",
     "output_type": "stream",
     "text": [
      "1)  16 \n",
      "\n",
      "2)  41 \n",
      "\n",
      "3)  True \n",
      "\n",
      "4)  True \n",
      "\n",
      "5)  4 \n",
      "\n",
      "not found\n"
     ]
    }
   ],
   "source": [
    "text = \"The quick brown fox jumps over the lazy dog.\"\n",
    "\n",
    "print (\"1) \", text.find(\"fox\"), \"\\n\") # Find the first occurrence of the word \"fox\" in the string and print its index\n",
    "print (\"2) \", text.rfind(\"o\"), \"\\n\") # Find the last occurrence of the letter \"o\" and print its index\n",
    "print (\"3) \", text.startswith(\"The\"), \"\\n\") # Check if the string starts with \"The\" and print True or False\n",
    "print (\"4) \", text.endswith(\"dog.\"), \"\\n\") # Check if the string ends with \"dog.\" and print True or False\n",
    "print (\"5) \", text.count(\"o\"), \"\\n\") # Count how many times the letter \"o\" appears in the string\n",
    "\n",
    "# Try to find the word \"cat\" in the string and handle the case where it is not found using .find() and .index(). \n",
    "# Print appropriate messages\n",
    "if text.find(\"cat\") == -1:\n",
    "    print(\"not found\")\n",
    "else:\n",
    "    print(\"found\")\n"
   ]
  },
  {
   "cell_type": "markdown",
   "metadata": {},
   "source": [
    "### Trimming & Stripping\n",
    "- **`s.strip()`**: Removes leading and trailing whitespace from `s`.\n",
    "- **`s.lstrip()`**: Removes leading whitespace.\n",
    "- **`s.rstrip()`**: Removes trailing whitespace.\n",
    "- **`s.strip(chars)`**: Removes leading and trailing characters specified in `chars`."
   ]
  },
  {
   "cell_type": "code",
   "execution_count": 45,
   "metadata": {},
   "outputs": [
    {
     "name": "stdout",
     "output_type": "stream",
     "text": [
      "   Hello World\n",
      "Hello World\n",
      "Hello World\n",
      "Hello World   \n"
     ]
    }
   ],
   "source": [
    "s = \"   Hello World   \"\n",
    "chars_s = \"---Hello World---\"\n",
    "\n",
    "# Remove trailing whitespace\n",
    "print(s.rstrip())\n",
    "\n",
    "# Remove leading and trailing whitespace\n",
    "print(s.strip())\n",
    "\n",
    "# Remove specified leading and trailing characters\n",
    "print(chars_s.strip(\"-\"))\n",
    "\n",
    "# Remove leading whitespace\n",
    "print(s.lstrip())\n",
    "\n",
    "\n",
    "\n",
    "\n"
   ]
  },
  {
   "cell_type": "markdown",
   "metadata": {},
   "source": [
    "### Replacing & Modifying\n",
    "- **`s.replace(old, new)`**: Replaces all occurrences of `old` with `new` in `s`.\n",
    "- **`s.replace(old, new, count)`**: Replaces the first `count` occurrences of `old` with "
   ]
  },
  {
   "cell_type": "markdown",
   "metadata": {},
   "source": [
    "### Splitting & Joining\n",
    "- **`s.split()`**: Splits `s` into a list of words using whitespace as the separator.\n",
    "- **`s.split(sep)`**: Splits `s` into a list using `sep` as the separator.\n",
    "- **`s.rsplit(sep)`**: Splits `s` into a list from the right using `sep`.\n",
    "- **`s.splitlines()`**: Splits `s` into a list of lines.\n",
    "- **`'separator'.join(iterable)`**: Joins elements of `iterable` into a single string using `'separator'`."
   ]
  },
  {
   "cell_type": "markdown",
   "metadata": {},
   "source": [
    "### Character Checking\n",
    "- **`s.isalpha()`**: Returns `True` if all characters in `s` are alphabetic.\n",
    "- **`s.isdigit()`**: Returns `True` if all characters in `s` are digits.\n",
    "- **`s.isalnum()`**: Returns `True` if all characters in `s` are alphanumeric.\n",
    "- **`s.isspace()`**: Returns `True` if all characters in `s` are whitespace.\n",
    "- **`s.islower()`**: Returns `True` if all alphabetic characters are lowercase.\n",
    "- **`s.isupper()`**: Returns `True` if all alphabetic characters are uppercase.\n",
    "- **`s.istitle()`**: Returns `True` if `s` is title-cased.\n"
   ]
  },
  {
   "cell_type": "markdown",
   "metadata": {},
   "source": [
    "### Formatting\n",
    "- **`s.format()`**: Formats a string using placeholders.\n",
    "  - **`\"Hello, {}!\".format(name)`**: Inserts `name` into the placeholder.\n",
    "- **Formatted String Literals (f-strings)**: Allows embedding expressions directly.\n",
    "  - **`f\"Hello, {name}!\"`**: Inserts the value of `name`.\n",
    "- **`s.zfill(width)`**: Pads `s` with zeros on the left to fill the specified `width`.\n",
    "- **`s.center(width)`**: Centers `s` within a field of `width`.\n",
    "- **`s.ljust(width)`**: Left-justifies `s` within a field of `width`.\n",
    "- **`s.rjust(width)`**: Right-justifies `s` within a field of `width`."
   ]
  },
  {
   "cell_type": "markdown",
   "metadata": {},
   "source": [
    "### Substring Extraction\n",
    "- **`s[start:end]`**: Extracts a substring from `start` to `end-1`.\n",
    "- **`s[:n]`**: Gets the first `n` characters.\n",
    "- **`s[-n:]`**: Gets the last `n` characters."
   ]
  },
  {
   "cell_type": "code",
   "execution_count": 28,
   "metadata": {},
   "outputs": [
    {
     "name": "stdout",
     "output_type": "stream",
     "text": [
      "He said \"go to heaven!\"\n"
     ]
    }
   ],
   "source": [
    "# -------Print Cases:-----------\n",
    "\n",
    "# Use \\\" to include quotes\n",
    "quote = \"He said \\\"go to heaven!\\\"\"\n",
    "print (quote)\n"
   ]
  },
  {
   "cell_type": "code",
   "execution_count": 46,
   "metadata": {},
   "outputs": [
    {
     "name": "stdout",
     "output_type": "stream",
     "text": [
      "15\n",
      "9\n"
     ]
    }
   ],
   "source": [
    "# ----------String Search-------------\n",
    "\n",
    "# Return index of first occurrence\n",
    "print(quote.find(\"heaven\"))\n",
    "\n",
    "# ValueError if it does'nt find it\n",
    "print(quote.index(\"go\"))"
   ]
  },
  {
   "cell_type": "markdown",
   "metadata": {},
   "source": [
    "Slicing Examples"
   ]
  },
  {
   "cell_type": "markdown",
   "metadata": {},
   "source": [
    "String Techniques"
   ]
  },
  {
   "cell_type": "code",
   "execution_count": null,
   "metadata": {},
   "outputs": [],
   "source": []
  },
  {
   "cell_type": "markdown",
   "metadata": {},
   "source": [
    "Array Fundamental"
   ]
  },
  {
   "cell_type": "markdown",
   "metadata": {},
   "source": [
    "Array Techniques"
   ]
  }
 ],
 "metadata": {
  "kernelspec": {
   "display_name": "Python 3",
   "language": "python",
   "name": "python3"
  },
  "language_info": {
   "codemirror_mode": {
    "name": "ipython",
    "version": 3
   },
   "file_extension": ".py",
   "mimetype": "text/x-python",
   "name": "python",
   "nbconvert_exporter": "python",
   "pygments_lexer": "ipython3",
   "version": "3.12.3"
  }
 },
 "nbformat": 4,
 "nbformat_minor": 2
}

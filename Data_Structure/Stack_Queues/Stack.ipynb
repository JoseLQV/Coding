{
 "cells": [
  {
   "cell_type": "markdown",
   "metadata": {},
   "source": [
    "# <u>**Stack**<u>\n",
    "\n",
    "\n"
   ]
  },
  {
   "cell_type": "markdown",
   "metadata": {},
   "source": [
    "Techniques covered:\n",
    "<ul>\n",
    "    <li> Monotonic Decreasing Stack </li>\n",
    "    <li> Back-tracking with Stack: Choices -> Constraints -> Goal  </li>\n",
    "    <li>  </li>\n",
    "</ul>\n",
    "\n"
   ]
  },
  {
   "cell_type": "markdown",
   "metadata": {},
   "source": [
    "# Stack: What\n",
    "A **stack** is a data structure that follows the **Last In, First Out (LIFO)** principle. The last element added to the stack is the first one to be removed.\n"
   ]
  },
  {
   "cell_type": "markdown",
   "metadata": {},
   "source": [
    "# Stack: Why\n",
    "Stacks are useful in problems that involve:\n",
    "- **Nested operations**\n",
    "- **Balancing symbols**\n",
    "- **Undo/Redo functionality**\n",
    "- **Reversing order of operations**\n",
    "\n",
    "Common scenarios where stacks are applied:\n",
    "- **Valid Parentheses**: Checking if parentheses are balanced.\n",
    "- **Min Stack**: Efficiently retrieving the minimum element.\n",
    "- **Largest Rectangle in Histogram**: Calculating the largest rectangle area in a histogram.\n",
    "- **Evaluate Reverse Polish Notation**: Evaluating postfix expressions.\n"
   ]
  },
  {
   "cell_type": "markdown",
   "metadata": {},
   "source": [
    "# Stack: How\n",
    "Stacks are often implemented using built-in data structures such as arrays or lists. The key operations are:\n",
    "- **stack.append()**: Add an element to the top of the stack.\n",
    "- **stack.pop()**: Remove the top element from the stack.\n",
    "- **stack[-1]**: Look at the top element without removing it.\n",
    "\n",
    "### Example (Python - Valid Parentheses):\n",
    "```python\n",
    "def isValid(s: str) -> bool:\n",
    "    stack = []\n",
    "    mapping = {')': '(', '}': '{', ']': '['}\n",
    "    \n",
    "    for char in s:\n",
    "        if char in mapping:\n",
    "            top_element = stack.pop() if stack else '#'\n",
    "            if mapping[char] != top_element:\n",
    "                return False\n",
    "        else:\n",
    "            stack.append(char)\n",
    "    return not stack\n"
   ]
  },
  {
   "cell_type": "markdown",
   "metadata": {},
   "source": [
    "\n",
    "# Stack: When\n",
    "Use stacks when:\n",
    "- **Balancing parentheses or similar tasks** (e.g., Valid Parentheses).\n",
    "- **Backtracking or undoing operations** (e.g., function calls in recursive algorithms).\n",
    "- **Monotonic stack problems**: For example, finding the next greater element or tracking heights in histograms.\n",
    "- **Expression evaluation**: Problems that involve evaluating postfix, prefix, or infix expressions.\n"
   ]
  },
  {
   "cell_type": "markdown",
   "metadata": {},
   "source": [
    "\n",
    "\n",
    "\n",
    "## **My Examples**"
   ]
  },
  {
   "cell_type": "markdown",
   "metadata": {},
   "source": [
    "#### 1 Valid Parenthesis\n",
    "\n",
    "\n",
    "Concepts Covered: Nested operations and balancing symbols."
   ]
  },
  {
   "cell_type": "code",
   "execution_count": 3,
   "metadata": {},
   "outputs": [],
   "source": [
    "class Solution:\n",
    "    def isValid(self, s: str) -> bool:\n",
    "        # Stack => ({[\n",
    "        # Check stack vs ]})\n",
    "\n",
    "        stack = []\n",
    "        for c in s:\n",
    "            if c == \"(\" or c == \"{\" or c == '[':\n",
    "                stack.append(c)\n",
    "            \n",
    "            if c == \")\":\n",
    "                if stack and stack[-1] == \"(\":\n",
    "                    stack.pop()\n",
    "                else:\n",
    "                    return False\n",
    "            if c == \"}\":\n",
    "                if stack and stack[-1] == \"{\":\n",
    "                    stack.pop()\n",
    "                else:\n",
    "                    return False\n",
    "            if c == \"]\":\n",
    "                if stack and stack[-1] == \"[\":\n",
    "                    stack.pop()\n",
    "                else:\n",
    "                    return False\n",
    "        \n",
    "        if stack:\n",
    "            return False\n",
    "\n",
    "        return True\n",
    "\n",
    "               \n",
    "\n"
   ]
  },
  {
   "cell_type": "markdown",
   "metadata": {},
   "source": [
    "#### 2 Min Stack"
   ]
  },
  {
   "cell_type": "code",
   "execution_count": 4,
   "metadata": {},
   "outputs": [],
   "source": [
    "class MinStack:\n",
    "\n",
    "    def __init__(self):\n",
    "        self.stack = []\n",
    "        self.minStack = []\n",
    "    def push(self, val: int) -> None:\n",
    "        self.stack.append(val)\n",
    "        if self.minStack:\n",
    "            val = min(val, self.minStack[-1])\n",
    "        \n",
    "        self.minStack.append(val)\n",
    "\n",
    "\n",
    "    def pop(self) -> None:\n",
    "        self.stack.pop()\n",
    "        self.minStack.pop()\n",
    "\n",
    "    def top(self) -> int:\n",
    "        return self.stack[-1]\n",
    "    \n",
    "        \n",
    "\n",
    "    def getMin(self) -> int:\n",
    "        return self.minStack[-1]\n",
    "        "
   ]
  },
  {
   "cell_type": "markdown",
   "metadata": {},
   "source": [
    "#### 3. Evaluate Reverse Polish Notation"
   ]
  },
  {
   "cell_type": "code",
   "execution_count": 5,
   "metadata": {},
   "outputs": [],
   "source": [
    "\n",
    "\n",
    "# Evaluate Reverse Polish Notation\n",
    "# You are given an array of strings tokens that represents a valid arithmetic expression in Reverse Polish Notation.\n",
    "\n",
    "# Return the integer that represents the evaluation of the expression.\n",
    "\n",
    "# The operands may be integers or the results of other operations.\n",
    "# The operators include '+', '-', '*', and '/'.\n",
    "# Assume that division between integers always truncates toward zero.\n",
    "# Example 1:\n",
    "\n",
    "# Input: tokens = [\"1\",\"2\",\"+\",\"3\",\"*\",\"4\",\"-\"]\n",
    "\n",
    "# Output: 5\n",
    "\n",
    "# Explanation: ((1 + 2) * 3) - 4 = 5\n",
    "# Constraints:\n",
    "\n",
    "# 1 <= tokens.length <= 1000.\n",
    "# tokens[i] is \"+\", \"-\", \"*\", or \"/\", or a string representing an integer in the range [-100, 100].\n",
    "\n",
    "from typing import List\n",
    "\n",
    "\n",
    "class Solution:\n",
    "    def evalRPN(self, tokens: List[str]) -> int:\n",
    "        # Input: tokens = [\"1\",\"2\",\"+\",\"3\",\"*\",\"4\",\"-\"]\n",
    "\n",
    "        # Output: 5\n",
    "\n",
    "        # Explanation: ((1 + 2) * 3) - 4 = 5\n",
    "        \n",
    "        \n",
    "        stack = []\n",
    "        \n",
    "        for i in tokens:\n",
    "            if i == \"+\":\n",
    "                x,y = stack.pop(), stack.pop()\n",
    "                stack.append(y+x)\n",
    "            elif i == \"-\":\n",
    "                x,y = stack.pop(), stack.pop()\n",
    "                stack.append(y-x)\n",
    "            elif i == \"/\":\n",
    "                x,y = stack.pop(), stack.pop()\n",
    "                stack.append(y/x)\n",
    "            elif i == \"*\":\n",
    "                x,y = stack.pop(), stack.pop()\n",
    "                stack.append(x*y)\n",
    "            else:  \n",
    "                stack.append(int(i))\n",
    "            \n",
    "            \n",
    "        "
   ]
  },
  {
   "cell_type": "markdown",
   "metadata": {},
   "source": [
    "### 4 Generate Parentheses"
   ]
  },
  {
   "cell_type": "markdown",
   "metadata": {},
   "source": [
    "Generate Parentheses\n",
    "You are given an integer n. Return all well-formed parentheses strings that you can generate with n pairs of parentheses.\n",
    "\n",
    "Example 1:\n",
    "\n",
    "Input: n = 1\n",
    "\n",
    "Output: [\"()\"]\n",
    "Example 2:\n",
    "\n",
    "Input: n = 3\n",
    "\n",
    "Output: [\"((()))\",\"(()())\",\"(())()\",\"()(())\",\"()()()\"]\n",
    "You may return the answer in any order.\n",
    "\n",
    "Constraints:\n",
    "\n",
    "1 <= n <= 7"
   ]
  },
  {
   "cell_type": "code",
   "execution_count": null,
   "metadata": {},
   "outputs": [],
   "source": [
    "class Solution:\n",
    "    def generateParenthesis(self, n: int) -> List[str]:\n",
    "        return None\n",
    "    \n",
    "        # Key Concepts of Backtracking:\n",
    "        # Choice -> Constraint -> Goal\n",
    "        \n",
    "        \n",
    "        # Only add open paranthesis if open < n\n",
    "        # Only add a closing paranthesis if closed < open\n",
    "        # Valid if open == closed == n\n",
    "        \n",
    "        stack = []\n",
    "        res = []\n",
    "        \n",
    "        def backtrack(openN, closedN):\n",
    "            if openN == closedN == m:\n",
    "                res.append(\"\".join(stack))\n",
    "                return\n",
    "            \n",
    "            if opeN < n:\n",
    "                stack.append(\"(\")\n",
    "                backtrack(openN+1,closedN)\n",
    "                stack.pop()\n",
    "            \n",
    "            if closedN < openN:\n",
    "                stack.append(\")\")\n",
    "                backtrack(openN, closedN+1)\n",
    "                stack.pop()\n",
    "            \n",
    "        \n",
    "        backtrack(0,0)\n",
    "        return res\n",
    "                \n",
    "                \n",
    "        \n",
    "        \n",
    "        \n",
    "        "
   ]
  },
  {
   "cell_type": "markdown",
   "metadata": {},
   "source": [
    "### 5 Daily Temperatures: "
   ]
  },
  {
   "cell_type": "markdown",
   "metadata": {},
   "source": [
    "Technique Monotonic Stack"
   ]
  },
  {
   "cell_type": "markdown",
   "metadata": {},
   "source": []
  }
 ],
 "metadata": {
  "kernelspec": {
   "display_name": "Python 3",
   "language": "python",
   "name": "python3"
  },
  "language_info": {
   "codemirror_mode": {
    "name": "ipython",
    "version": 3
   },
   "file_extension": ".py",
   "mimetype": "text/x-python",
   "name": "python",
   "nbconvert_exporter": "python",
   "pygments_lexer": "ipython3",
   "version": "3.12.3"
  }
 },
 "nbformat": 4,
 "nbformat_minor": 2
}
